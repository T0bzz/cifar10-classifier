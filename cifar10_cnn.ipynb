{
 "cells": [
  {
   "cell_type": "markdown",
   "id": "744cd592",
   "metadata": {},
   "source": [
    "## Setup & Data"
   ]
  },
  {
   "cell_type": "code",
   "execution_count": 17,
   "id": "06e3dd8c",
   "metadata": {},
   "outputs": [],
   "source": [
    "# Import pytorch\n",
    "import torch\n",
    "from torch import nn\n",
    "\n",
    "# Import torch vision\n",
    "import torchvision\n",
    "from torchvision import transforms, datasets\n",
    "\n",
    "# Import matplotlib for visualisation\n",
    "import matplotlib.pyplot as plt"
   ]
  },
  {
   "cell_type": "code",
   "execution_count": 18,
   "id": "e4fea721",
   "metadata": {},
   "outputs": [
    {
     "name": "stdout",
     "output_type": "stream",
     "text": [
      "Files already downloaded and verified\n",
      "Files already downloaded and verified\n"
     ]
    }
   ],
   "source": [
    "# Define augmentation and normalisation for training\n",
    "train_transform = transforms.Compose([\n",
    "    transforms.RandomHorizontalFlip(),\n",
    "    transforms.RandomCrop(32, padding=4),\n",
    "    transforms.RandomRotation(10),\n",
    "    transforms.ToTensor(),\n",
    "    transforms.Normalize((0.5,0.5,0.5), (0.5,0.5,0.5))\n",
    "])\n",
    "\n",
    "# Normalise and transform test data\n",
    "test_transform = transforms.Compose([\n",
    "    transforms.ToTensor(),\n",
    "    transforms.Normalize((0.5,0.5,0.5), (0.5,0.5,0.5))\n",
    "])\n",
    "\n",
    "# Setup training data\n",
    "train_data = datasets.CIFAR10(\n",
    "    root=\"sample_data\",\n",
    "    train=True,\n",
    "    download=True,\n",
    "    transform=train_transform,\n",
    "    target_transform=None\n",
    ")\n",
    "\n",
    "# Setup testing data\n",
    "test_data = datasets.CIFAR10(\n",
    "    root=\"sample_data\",\n",
    "    train=False,\n",
    "    download=True,\n",
    "    transform=test_transform\n",
    ")"
   ]
  },
  {
   "cell_type": "code",
   "execution_count": 19,
   "id": "6553c8a6",
   "metadata": {},
   "outputs": [
    {
     "data": {
      "text/plain": [
       "(tensor([[[-1.0000,  0.0431,  0.0431,  ..., -1.0000, -1.0000, -1.0000],\n",
       "          [-1.0000,  0.0196,  0.1137,  ..., -0.5373, -1.0000, -1.0000],\n",
       "          [-1.0000,  0.0196,  0.0588,  ..., -0.8745, -1.0000, -1.0000],\n",
       "          ...,\n",
       "          [-0.7333, -0.5451, -0.1843,  ..., -1.0000, -1.0000, -1.0000],\n",
       "          [-0.1922, -0.2784, -0.0588,  ..., -1.0000, -1.0000, -1.0000],\n",
       "          [-1.0000, -1.0000, -1.0000,  ..., -1.0000, -1.0000, -1.0000]],\n",
       " \n",
       "         [[-1.0000, -0.2471, -0.2627,  ..., -1.0000, -1.0000, -1.0000],\n",
       "          [-1.0000, -0.2627, -0.1765,  ..., -0.5137, -1.0000, -1.0000],\n",
       "          [-1.0000, -0.2941, -0.2706,  ..., -0.8431, -1.0000, -1.0000],\n",
       "          ...,\n",
       "          [-0.9608, -0.7569, -0.4745,  ..., -1.0000, -1.0000, -1.0000],\n",
       "          [-0.3882, -0.4745, -0.3176,  ..., -1.0000, -1.0000, -1.0000],\n",
       "          [-1.0000, -1.0000, -1.0000,  ..., -1.0000, -1.0000, -1.0000]],\n",
       " \n",
       "         [[-1.0000, -0.5294, -0.5451,  ..., -1.0000, -1.0000, -1.0000],\n",
       "          [-1.0000, -0.5451, -0.4667,  ..., -0.5059, -1.0000, -1.0000],\n",
       "          [-1.0000, -0.6078, -0.6000,  ..., -0.8431, -1.0000, -1.0000],\n",
       "          ...,\n",
       "          [-1.0000, -0.9137, -0.7647,  ..., -1.0000, -1.0000, -1.0000],\n",
       "          [-0.5529, -0.6392, -0.5373,  ..., -1.0000, -1.0000, -1.0000],\n",
       "          [-1.0000, -1.0000, -1.0000,  ..., -1.0000, -1.0000, -1.0000]]]),\n",
       " 6)"
      ]
     },
     "execution_count": 19,
     "metadata": {},
     "output_type": "execute_result"
    }
   ],
   "source": [
    "# Dislpay the first image and its corresponding lable from the training dataset\n",
    "img, label = train_data[0]\n",
    "img, label"
   ]
  },
  {
   "cell_type": "markdown",
   "id": "47f8c96f",
   "metadata": {},
   "source": [
    "# About the data\n",
    "\n",
    "- Input and output shapes\n",
    "- Lables\n",
    "- Sample images"
   ]
  },
  {
   "cell_type": "code",
   "execution_count": 20,
   "id": "f73c20d5",
   "metadata": {},
   "outputs": [
    {
     "name": "stdout",
     "output_type": "stream",
     "text": [
      "Per-sample input shape: torch.Size([3, 32, 32])\n",
      "Output shape: {label}\n"
     ]
    }
   ],
   "source": [
    "# Per-sample input shape\n",
    "print(f\"Per-sample input shape: {img.shape}\") # [3, 32, 32] -> 3 colour channels, 32 x 32\n",
    "\n",
    "# Output shape\n",
    "print(\"Output shape: {label}\") # scalar integer"
   ]
  },
  {
   "cell_type": "code",
   "execution_count": 21,
   "id": "4f93a95a",
   "metadata": {},
   "outputs": [
    {
     "data": {
      "text/plain": [
       "(50000, 50000, 10000, 10000)"
      ]
     },
     "execution_count": 21,
     "metadata": {},
     "output_type": "execute_result"
    }
   ],
   "source": [
    "# Number of samples\n",
    "len(train_data.data), len(train_data.targets), len(test_data.data), len(test_data.targets)"
   ]
  },
  {
   "cell_type": "code",
   "execution_count": 22,
   "id": "2117e13f",
   "metadata": {},
   "outputs": [
    {
     "data": {
      "text/plain": [
       "['airplane',\n",
       " 'automobile',\n",
       " 'bird',\n",
       " 'cat',\n",
       " 'deer',\n",
       " 'dog',\n",
       " 'frog',\n",
       " 'horse',\n",
       " 'ship',\n",
       " 'truck']"
      ]
     },
     "execution_count": 22,
     "metadata": {},
     "output_type": "execute_result"
    }
   ],
   "source": [
    "# Class names\n",
    "class_names = train_data.classes\n",
    "class_names"
   ]
  },
  {
   "cell_type": "code",
   "execution_count": 23,
   "id": "cef4efc3",
   "metadata": {},
   "outputs": [
    {
     "name": "stderr",
     "output_type": "stream",
     "text": [
      "Clipping input data to the valid range for imshow with RGB data ([0..1] for floats or [0..255] for integers). Got range [-1.0..0.7254902].\n",
      "Clipping input data to the valid range for imshow with RGB data ([0..1] for floats or [0..255] for integers). Got range [-1.0..0.99215686].\n",
      "Clipping input data to the valid range for imshow with RGB data ([0..1] for floats or [0..255] for integers). Got range [-1.0..0.92156863].\n",
      "Clipping input data to the valid range for imshow with RGB data ([0..1] for floats or [0..255] for integers). Got range [-1.0..0.70980394].\n",
      "Clipping input data to the valid range for imshow with RGB data ([0..1] for floats or [0..255] for integers). Got range [-1.0..0.96862745].\n",
      "Clipping input data to the valid range for imshow with RGB data ([0..1] for floats or [0..255] for integers). Got range [-1.0..0.4901961].\n",
      "Clipping input data to the valid range for imshow with RGB data ([0..1] for floats or [0..255] for integers). Got range [-1.0..0.85882354].\n",
      "Clipping input data to the valid range for imshow with RGB data ([0..1] for floats or [0..255] for integers). Got range [-1.0..0.8352941].\n",
      "Clipping input data to the valid range for imshow with RGB data ([0..1] for floats or [0..255] for integers). Got range [-1.0..1.0].\n",
      "Clipping input data to the valid range for imshow with RGB data ([0..1] for floats or [0..255] for integers). Got range [-1.0..1.0].\n",
      "Clipping input data to the valid range for imshow with RGB data ([0..1] for floats or [0..255] for integers). Got range [-1.0..1.0].\n",
      "Clipping input data to the valid range for imshow with RGB data ([0..1] for floats or [0..255] for integers). Got range [-1.0..1.0].\n",
      "Clipping input data to the valid range for imshow with RGB data ([0..1] for floats or [0..255] for integers). Got range [-1.0..0.105882406].\n",
      "Clipping input data to the valid range for imshow with RGB data ([0..1] for floats or [0..255] for integers). Got range [-1.0..0.78039217].\n",
      "Clipping input data to the valid range for imshow with RGB data ([0..1] for floats or [0..255] for integers). Got range [-1.0..1.0].\n",
      "Clipping input data to the valid range for imshow with RGB data ([0..1] for floats or [0..255] for integers). Got range [-1.0..0.99215686].\n"
     ]
    },
    {
     "data": {
      "image/png": "[encoded data removed]",
      "text/plain": [
       "<Figure size 900x900 with 16 Axes>"
      ]
     },
     "metadata": {},
     "output_type": "display_data"
    }
   ],
   "source": [
    "# Plot some more images\n",
    "torch.manual_seed(42)\n",
    "\n",
    "fig = plt.figure(figsize=(9,9))\n",
    "rows, cols = 4, 4\n",
    "for i in range(1, rows * cols + 1):\n",
    "    random_idx = torch.randint(0, len(train_data), size=[1]).item() # get a random sample from train_data\n",
    "    image, label = train_data[random_idx]\n",
    "\n",
    "    # Disaply each sample\n",
    "    fig.add_subplot(rows, cols, i)\n",
    "    plt.imshow(image.permute(1, 2, 0))\n",
    "    plt.title(class_names[label])\n",
    "    plt.axis(False)\n"
   ]
  },
  {
   "cell_type": "markdown",
   "id": "710a7550",
   "metadata": {},
   "source": [
    "# Prepare dataloader\n",
    "\n",
    "- Create batches of samples from train_data and test_data\n"
   ]
  },
  {
   "cell_type": "code",
   "execution_count": 24,
   "id": "8de99310",
   "metadata": {},
   "outputs": [
    {
     "name": "stdout",
     "output_type": "stream",
     "text": [
      "Train dataloader: 1563 batches of 32\n",
      "Test dataloader: 313 batches of 32\n"
     ]
    }
   ],
   "source": [
    "from torch.utils.data import DataLoader\n",
    "\n",
    "BATCH_SIZE = 32\n",
    "\n",
    "# Turn datasets into batches\n",
    "train_dataloader = DataLoader(\n",
    "    train_data, # dataset to turn into batches\n",
    "    batch_size=BATCH_SIZE, # number of samples per batch\n",
    "    shuffle=True # shuffle data per epoch -> improved generalisation\n",
    ")\n",
    "\n",
    "test_dataloader = DataLoader(\n",
    "    test_data,\n",
    "    batch_size=BATCH_SIZE,\n",
    "    shuffle=False\n",
    ")\n",
    "\n",
    "# Display batch sizes\n",
    "print(f\"Train dataloader: {len(train_dataloader)} batches of {BATCH_SIZE}\")\n",
    "print(f\"Test dataloader: {len(test_dataloader)} batches of {BATCH_SIZE}\")"
   ]
  },
  {
   "cell_type": "markdown",
   "id": "2cf511c5",
   "metadata": {},
   "source": [
    "# Model 0: Simple CNN"
   ]
  },
  {
   "cell_type": "code",
   "execution_count": 25,
   "id": "89096e69",
   "metadata": {},
   "outputs": [
    {
     "data": {
      "text/plain": [
       "'cuda'"
      ]
     },
     "execution_count": 25,
     "metadata": {},
     "output_type": "execute_result"
    }
   ],
   "source": [
    "# Setup device agnostic code\n",
    "device = \"cuda\" if torch.cuda.is_available() else \"cpu\"\n",
    "device"
   ]
  },
  {
   "cell_type": "code",
   "execution_count": 26,
   "id": "ffaec7ce",
   "metadata": {},
   "outputs": [
    {
     "data": {
      "text/plain": [
       "SimpleCNN(\n",
       "  (group1): Sequential(\n",
       "    (0): Conv2d(3, 32, kernel_size=(3, 3), stride=(1, 1), padding=(1, 1))\n",
       "    (1): ReLU()\n",
       "    (2): MaxPool2d(kernel_size=2, stride=2, padding=0, dilation=1, ceil_mode=False)\n",
       "  )\n",
       "  (group2): Sequential(\n",
       "    (0): Conv2d(32, 32, kernel_size=(3, 3), stride=(1, 1), padding=(1, 1))\n",
       "    (1): ReLU()\n",
       "    (2): MaxPool2d(kernel_size=2, stride=2, padding=0, dilation=1, ceil_mode=False)\n",
       "  )\n",
       "  (classifier): Sequential(\n",
       "    (0): Flatten(start_dim=1, end_dim=-1)\n",
       "    (1): Linear(in_features=2048, out_features=128, bias=True)\n",
       "    (2): ReLU()\n",
       "    (3): Linear(in_features=128, out_features=10, bias=True)\n",
       "  )\n",
       ")"
      ]
     },
     "execution_count": 26,
     "metadata": {},
     "output_type": "execute_result"
    }
   ],
   "source": [
    "import torch.nn.functional as F\n",
    "\n",
    "class SimpleCNN(nn.Module):\n",
    "    def __init__(self, input_shape: int, hidden_units: int, output_shape: int):\n",
    "        super().__init__()\n",
    "\n",
    "        self.group1 = nn.Sequential(\n",
    "            nn.Conv2d(in_channels=input_shape,\n",
    "                      out_channels=hidden_units,\n",
    "                      kernel_size=3,\n",
    "                      padding=1),\n",
    "            nn.ReLU(),\n",
    "            nn.MaxPool2d(kernel_size=2,\n",
    "                         stride=2)\n",
    "        )\n",
    "\n",
    "        self.group2 = nn.Sequential(\n",
    "            nn.Conv2d(in_channels=hidden_units,\n",
    "                      out_channels=hidden_units,\n",
    "                      kernel_size=3,\n",
    "                      padding=1),\n",
    "            nn.ReLU(),\n",
    "            nn.MaxPool2d(kernel_size=2,\n",
    "                         stride=2)\n",
    "        )\n",
    "\n",
    "        self.classifier = nn.Sequential(\n",
    "            nn.Flatten(),\n",
    "            nn.Linear(in_features=hidden_units * 8 * 8,\n",
    "                      out_features=hidden_units*4),\n",
    "            nn.ReLU(),\n",
    "            nn.Linear(in_features=hidden_units*4,\n",
    "                      out_features=output_shape)\n",
    "        )\n",
    "\n",
    "    def forward(self, x: torch.Tensor):\n",
    "        x = self.group1(x)\n",
    "        x = self.group2(x)\n",
    "        x = self.classifier(x)\n",
    "        return x\n",
    "\n",
    "torch.manual_seed(42)\n",
    "model_0 = SimpleCNN(input_shape=3,  # Images have 3 color channels\n",
    "                    hidden_units=32,\n",
    "                    output_shape=len(class_names)).to(device)\n",
    "model_0"
   ]
  },
  {
   "cell_type": "markdown",
   "id": "2f370914",
   "metadata": {},
   "source": [
    "# Model 1: Complex CNN\n"
   ]
  },
  {
   "cell_type": "code",
   "execution_count": 27,
   "id": "989a78d7",
   "metadata": {},
   "outputs": [
    {
     "data": {
      "text/plain": [
       "ComplexCNN(\n",
       "  (group_1): Sequential(\n",
       "    (0): Conv2d(3, 32, kernel_size=(3, 3), stride=(1, 1), padding=(1, 1))\n",
       "    (1): BatchNorm2d(32, eps=1e-05, momentum=0.1, affine=True, track_running_stats=True)\n",
       "    (2): ReLU()\n",
       "    (3): MaxPool2d(kernel_size=2, stride=2, padding=0, dilation=1, ceil_mode=False)\n",
       "  )\n",
       "  (group_2): Sequential(\n",
       "    (0): Conv2d(32, 32, kernel_size=(3, 3), stride=(1, 1), padding=(1, 1))\n",
       "    (1): BatchNorm2d(32, eps=1e-05, momentum=0.1, affine=True, track_running_stats=True)\n",
       "    (2): ReLU()\n",
       "    (3): MaxPool2d(kernel_size=2, stride=2, padding=0, dilation=1, ceil_mode=False)\n",
       "  )\n",
       "  (group_3): Sequential(\n",
       "    (0): Conv2d(32, 32, kernel_size=(3, 3), stride=(1, 1), padding=(1, 1))\n",
       "    (1): BatchNorm2d(32, eps=1e-05, momentum=0.1, affine=True, track_running_stats=True)\n",
       "    (2): ReLU()\n",
       "    (3): MaxPool2d(kernel_size=2, stride=2, padding=0, dilation=1, ceil_mode=False)\n",
       "  )\n",
       "  (classifier): Sequential(\n",
       "    (0): Flatten(start_dim=1, end_dim=-1)\n",
       "    (1): Linear(in_features=512, out_features=128, bias=True)\n",
       "    (2): ReLU()\n",
       "    (3): Dropout(p=0.5, inplace=False)\n",
       "    (4): Linear(in_features=128, out_features=10, bias=True)\n",
       "  )\n",
       ")"
      ]
     },
     "execution_count": 27,
     "metadata": {},
     "output_type": "execute_result"
    }
   ],
   "source": [
    "class ComplexCNN(nn.Module):\n",
    "    def __init__(self, input_shape: int, hidden_units: int, output_shape: int):\n",
    "        super().__init__()\n",
    "\n",
    "        # Convolutional layers with batch normalisation and max pooling\n",
    "        self.group_1 = nn.Sequential(\n",
    "            nn.Conv2d(in_channels=input_shape,\n",
    "                      out_channels=hidden_units,\n",
    "                      kernel_size=3,\n",
    "                      padding=1),\n",
    "            nn.BatchNorm2d(num_features=hidden_units), # normalise activations of a layer at each batch -> improved training speed and stability\n",
    "            nn.ReLU(),\n",
    "            nn.MaxPool2d(kernel_size=2,\n",
    "                         stride=2)\n",
    "            )\n",
    "\n",
    "        self.group_2 = nn.Sequential(\n",
    "            nn.Conv2d(in_channels=hidden_units,\n",
    "                      out_channels=hidden_units,\n",
    "                      kernel_size=3,\n",
    "                      padding=1),\n",
    "            nn.BatchNorm2d(num_features=hidden_units),\n",
    "            nn.ReLU(),\n",
    "            nn.MaxPool2d(kernel_size=2,\n",
    "                         stride=2)\n",
    "        )\n",
    "\n",
    "        self.group_3 = nn.Sequential(\n",
    "            nn.Conv2d(in_channels=hidden_units,\n",
    "                      out_channels=hidden_units,\n",
    "                      kernel_size=3,\n",
    "                      padding=1),\n",
    "            nn.BatchNorm2d(num_features=hidden_units),\n",
    "            nn.ReLU(),\n",
    "            nn.MaxPool2d(kernel_size=2,\n",
    "                         stride=2)\n",
    "        )\n",
    "\n",
    "        # Fully connected layers (Classifier)\n",
    "        self.classifier = nn.Sequential(\n",
    "            nn.Flatten(),\n",
    "            nn.Linear(hidden_units* 4 * 4, \n",
    "                      hidden_units*4),\n",
    "            nn.ReLU(),\n",
    "            nn.Dropout(p=0.5), # randomly zeroes some of the elements of the input tensor with probability p using samples from a Bernoulli distribution -> prevent overfitting\n",
    "            nn.Linear(hidden_units*4,\n",
    "                      output_shape)\n",
    "            )\n",
    "    \n",
    "    def forward(self, x: torch.Tensor):\n",
    "        x = self.group_1(x)\n",
    "        x = self.group_2(x)\n",
    "        x = self.group_3(x)\n",
    "        x = self.classifier(x)\n",
    "        return x\n",
    "\n",
    "\n",
    "torch.manual_seed(42)\n",
    "model_1 = ComplexCNN(input_shape=3,\n",
    "                    hidden_units=32,\n",
    "                    output_shape=len(class_names)).to(device)\n",
    "model_1\n"
   ]
  },
  {
   "cell_type": "markdown",
   "id": "2d6ff0fd",
   "metadata": {},
   "source": [
    "# Model 2: Pretrained / Loaded CNN"
   ]
  },
  {
   "cell_type": "code",
   "execution_count": 28,
   "id": "cc8e1736",
   "metadata": {},
   "outputs": [
    {
     "name": "stderr",
     "output_type": "stream",
     "text": [
      "C:\\Users\\tobyv\\AppData\\Roaming\\Python\\Python39\\site-packages\\torchvision\\models\\_utils.py:208: UserWarning: The parameter 'pretrained' is deprecated since 0.13 and may be removed in the future, please use 'weights' instead.\n",
      "  warnings.warn(\n",
      "C:\\Users\\tobyv\\AppData\\Roaming\\Python\\Python39\\site-packages\\torchvision\\models\\_utils.py:223: UserWarning: Arguments other than a weight enum or `None` for 'weights' are deprecated since 0.13 and may be removed in the future. The current behavior is equivalent to passing `weights=ResNet18_Weights.IMAGENET1K_V1`. You can also use `weights=ResNet18_Weights.DEFAULT` to get the most up-to-date weights.\n",
      "  warnings.warn(msg)\n"
     ]
    },
    {
     "data": {
      "text/plain": [
       "ResNet(\n",
       "  (conv1): Conv2d(3, 64, kernel_size=(3, 3), stride=(1, 1), padding=(1, 1), bias=False)\n",
       "  (bn1): BatchNorm2d(64, eps=1e-05, momentum=0.1, affine=True, track_running_stats=True)\n",
       "  (relu): ReLU(inplace=True)\n",
       "  (maxpool): Identity()\n",
       "  (layer1): Sequential(\n",
       "    (0): BasicBlock(\n",
       "      (conv1): Conv2d(64, 64, kernel_size=(3, 3), stride=(1, 1), padding=(1, 1), bias=False)\n",
       "      (bn1): BatchNorm2d(64, eps=1e-05, momentum=0.1, affine=True, track_running_stats=True)\n",
       "      (relu): ReLU(inplace=True)\n",
       "      (conv2): Conv2d(64, 64, kernel_size=(3, 3), stride=(1, 1), padding=(1, 1), bias=False)\n",
       "      (bn2): BatchNorm2d(64, eps=1e-05, momentum=0.1, affine=True, track_running_stats=True)\n",
       "    )\n",
       "    (1): BasicBlock(\n",
       "      (conv1): Conv2d(64, 64, kernel_size=(3, 3), stride=(1, 1), padding=(1, 1), bias=False)\n",
       "      (bn1): BatchNorm2d(64, eps=1e-05, momentum=0.1, affine=True, track_running_stats=True)\n",
       "      (relu): ReLU(inplace=True)\n",
       "      (conv2): Conv2d(64, 64, kernel_size=(3, 3), stride=(1, 1), padding=(1, 1), bias=False)\n",
       "      (bn2): BatchNorm2d(64, eps=1e-05, momentum=0.1, affine=True, track_running_stats=True)\n",
       "    )\n",
       "  )\n",
       "  (layer2): Sequential(\n",
       "    (0): BasicBlock(\n",
       "      (conv1): Conv2d(64, 128, kernel_size=(3, 3), stride=(2, 2), padding=(1, 1), bias=False)\n",
       "      (bn1): BatchNorm2d(128, eps=1e-05, momentum=0.1, affine=True, track_running_stats=True)\n",
       "      (relu): ReLU(inplace=True)\n",
       "      (conv2): Conv2d(128, 128, kernel_size=(3, 3), stride=(1, 1), padding=(1, 1), bias=False)\n",
       "      (bn2): BatchNorm2d(128, eps=1e-05, momentum=0.1, affine=True, track_running_stats=True)\n",
       "      (downsample): Sequential(\n",
       "        (0): Conv2d(64, 128, kernel_size=(1, 1), stride=(2, 2), bias=False)\n",
       "        (1): BatchNorm2d(128, eps=1e-05, momentum=0.1, affine=True, track_running_stats=True)\n",
       "      )\n",
       "    )\n",
       "    (1): BasicBlock(\n",
       "      (conv1): Conv2d(128, 128, kernel_size=(3, 3), stride=(1, 1), padding=(1, 1), bias=False)\n",
       "      (bn1): BatchNorm2d(128, eps=1e-05, momentum=0.1, affine=True, track_running_stats=True)\n",
       "      (relu): ReLU(inplace=True)\n",
       "      (conv2): Conv2d(128, 128, kernel_size=(3, 3), stride=(1, 1), padding=(1, 1), bias=False)\n",
       "      (bn2): BatchNorm2d(128, eps=1e-05, momentum=0.1, affine=True, track_running_stats=True)\n",
       "    )\n",
       "  )\n",
       "  (layer3): Sequential(\n",
       "    (0): BasicBlock(\n",
       "      (conv1): Conv2d(128, 256, kernel_size=(3, 3), stride=(2, 2), padding=(1, 1), bias=False)\n",
       "      (bn1): BatchNorm2d(256, eps=1e-05, momentum=0.1, affine=True, track_running_stats=True)\n",
       "      (relu): ReLU(inplace=True)\n",
       "      (conv2): Conv2d(256, 256, kernel_size=(3, 3), stride=(1, 1), padding=(1, 1), bias=False)\n",
       "      (bn2): BatchNorm2d(256, eps=1e-05, momentum=0.1, affine=True, track_running_stats=True)\n",
       "      (downsample): Sequential(\n",
       "        (0): Conv2d(128, 256, kernel_size=(1, 1), stride=(2, 2), bias=False)\n",
       "        (1): BatchNorm2d(256, eps=1e-05, momentum=0.1, affine=True, track_running_stats=True)\n",
       "      )\n",
       "    )\n",
       "    (1): BasicBlock(\n",
       "      (conv1): Conv2d(256, 256, kernel_size=(3, 3), stride=(1, 1), padding=(1, 1), bias=False)\n",
       "      (bn1): BatchNorm2d(256, eps=1e-05, momentum=0.1, affine=True, track_running_stats=True)\n",
       "      (relu): ReLU(inplace=True)\n",
       "      (conv2): Conv2d(256, 256, kernel_size=(3, 3), stride=(1, 1), padding=(1, 1), bias=False)\n",
       "      (bn2): BatchNorm2d(256, eps=1e-05, momentum=0.1, affine=True, track_running_stats=True)\n",
       "    )\n",
       "  )\n",
       "  (layer4): Sequential(\n",
       "    (0): BasicBlock(\n",
       "      (conv1): Conv2d(256, 512, kernel_size=(3, 3), stride=(2, 2), padding=(1, 1), bias=False)\n",
       "      (bn1): BatchNorm2d(512, eps=1e-05, momentum=0.1, affine=True, track_running_stats=True)\n",
       "      (relu): ReLU(inplace=True)\n",
       "      (conv2): Conv2d(512, 512, kernel_size=(3, 3), stride=(1, 1), padding=(1, 1), bias=False)\n",
       "      (bn2): BatchNorm2d(512, eps=1e-05, momentum=0.1, affine=True, track_running_stats=True)\n",
       "      (downsample): Sequential(\n",
       "        (0): Conv2d(256, 512, kernel_size=(1, 1), stride=(2, 2), bias=False)\n",
       "        (1): BatchNorm2d(512, eps=1e-05, momentum=0.1, affine=True, track_running_stats=True)\n",
       "      )\n",
       "    )\n",
       "    (1): BasicBlock(\n",
       "      (conv1): Conv2d(512, 512, kernel_size=(3, 3), stride=(1, 1), padding=(1, 1), bias=False)\n",
       "      (bn1): BatchNorm2d(512, eps=1e-05, momentum=0.1, affine=True, track_running_stats=True)\n",
       "      (relu): ReLU(inplace=True)\n",
       "      (conv2): Conv2d(512, 512, kernel_size=(3, 3), stride=(1, 1), padding=(1, 1), bias=False)\n",
       "      (bn2): BatchNorm2d(512, eps=1e-05, momentum=0.1, affine=True, track_running_stats=True)\n",
       "    )\n",
       "  )\n",
       "  (avgpool): AdaptiveAvgPool2d(output_size=(1, 1))\n",
       "  (fc): Linear(in_features=512, out_features=10, bias=True)\n",
       ")"
      ]
     },
     "execution_count": 28,
     "metadata": {},
     "output_type": "execute_result"
    }
   ],
   "source": [
    "from torchvision import models\n",
    "\n",
    "model_2 = models.resnet18(pretrained=True) # download pretrained weights\n",
    "\n",
    "model_2.conv1 = nn.Conv2d(in_channels=3,\n",
    "                        out_channels=64,\n",
    "                        kernel_size=3,\n",
    "                        stride=1,\n",
    "                        padding=1,\n",
    "                        bias=False)\n",
    "                        \n",
    "model_2.maxpool = nn.Identity() # remove maxpool layer for small images\n",
    "\n",
    "model_2.fc = nn.Linear(model_2.fc.in_features,\n",
    "                       len(class_names)) # change output layer to match number of classes\n",
    "\n",
    "model_2 = model_2.to(device)\n",
    "model_2"
   ]
  },
  {
   "cell_type": "markdown",
   "id": "d8ca5f9f",
   "metadata": {},
   "source": [
    "# Train the models"
   ]
  },
  {
   "cell_type": "markdown",
   "id": "3a3bed30",
   "metadata": {},
   "source": [
    "### Setup evaluation metric"
   ]
  },
  {
   "cell_type": "code",
   "execution_count": 29,
   "id": "61c51740",
   "metadata": {},
   "outputs": [],
   "source": [
    "import torchmetrics\n",
    "from torchmetrics import Accuracy\n",
    "\n",
    "# Initialise accuracy metrics\n",
    "train_metric = Accuracy(task=\"multiclass\", num_classes=len(class_names)).to(device)\n",
    "test_metric = Accuracy(task=\"multiclass\", num_classes=len(class_names)).to(device)\n"
   ]
  },
  {
   "cell_type": "markdown",
   "id": "a16142c6",
   "metadata": {},
   "source": [
    "### Functionise train and test loops"
   ]
  },
  {
   "cell_type": "code",
   "execution_count": 30,
   "id": "8f82dfe4",
   "metadata": {},
   "outputs": [],
   "source": [
    "def train_loop(model: torch.nn.Module,\n",
    "               data_loader: torch.utils.data.DataLoader,\n",
    "               loss_fn: nn.Module,\n",
    "               optimizer: torch.optim.Optimizer,\n",
    "               metric: torchmetrics.Accuracy,\n",
    "               device: torch.device = device):\n",
    "\n",
    "    train_loss = 0\n",
    "    model.to(device) # Send the model to the device\n",
    "    metric.reset()\n",
    "    for batch, (X, y) in enumerate(data_loader):\n",
    "        # Send dat to the device\n",
    "        X, y = X.to(device), y.to(device)\n",
    "\n",
    "        # 1. Forward pass\n",
    "        y_pred = model(X)\n",
    "\n",
    "        # 2. Calculate loss and update accuracy metric\n",
    "        loss = loss_fn(y_pred, y)\n",
    "        train_loss += loss\n",
    "\n",
    "        metric.update(y_pred, y)\n",
    "\n",
    "        # 3. Optimiser zero grad\n",
    "        optimizer.zero_grad()\n",
    "\n",
    "        # 4. Loss backward\n",
    "        loss.backward()\n",
    "\n",
    "        # 5. Optimiser step\n",
    "        optimizer.step()\n",
    "\n",
    "    # Calculate loss and accuracy per epoch\n",
    "    train_loss = (train_loss / len(data_loader)).item()\n",
    "    train_acc = metric.compute().item() * 100 # to percentage\n",
    "    metric.reset() # reset for next epoch\n",
    "    print(f\"Train loss: {train_loss:.5f} | Train acc: {train_acc:.2f}%\")\n",
    "\n",
    "    return train_loss, train_acc\n",
    "\n",
    "\n",
    "def test_loop(model: torch.nn.Module,\n",
    "              data_loader: torch.utils.data.DataLoader,\n",
    "              loss_fn: nn.Module,\n",
    "              metric: torchmetrics.Accuracy,\n",
    "              device: torch.device = device):\n",
    "    test_loss = 0\n",
    "    model.to(device) # Send the model to the device\n",
    "    # Turn on evaluation\n",
    "    model.eval()\n",
    "    metric.reset()\n",
    "\n",
    "    # Turn on inference context manager\n",
    "    with torch.inference_mode():\n",
    "        for X, y in data_loader:\n",
    "            # Send dat to the device\n",
    "            X, y = X.to(device), y.to(device)\n",
    "\n",
    "            # 1. Forward pass\n",
    "            test_pred = model(X)\n",
    "\n",
    "            # 2. Calculate loss and update accuracy metric\n",
    "            loss = loss_fn(test_pred, y)\n",
    "            test_loss += loss.item()\n",
    "\n",
    "            metric.update(test_pred, y)\n",
    "\n",
    "        # Adjust metrics and print out\n",
    "        test_loss = (test_loss / len(data_loader))\n",
    "        test_acc = metric.compute().item() * 100 # to percentage\n",
    "        metric.reset()\n",
    "        print(f\"Test loss: {test_loss:.5f} | Test accuracy: {test_acc:.2f}%\\n\")\n",
    "\n",
    "    return test_loss, test_acc"
   ]
  },
  {
   "cell_type": "markdown",
   "id": "625a7958",
   "metadata": {},
   "source": [
    "### Setup loss function and optimizer for model 0"
   ]
  },
  {
   "cell_type": "markdown",
   "id": "14b56f06",
   "metadata": {},
   "source": [
    "### Train Model 0"
   ]
  },
  {
   "cell_type": "code",
   "execution_count": 31,
   "id": "b0681039",
   "metadata": {},
   "outputs": [],
   "source": [
    "# Setup loss function and optimizer\n",
    "loss_fn = nn.CrossEntropyLoss()\n",
    "optimizer = torch.optim.Adam(params=model_0.parameters(), lr=1e-3)"
   ]
  },
  {
   "cell_type": "code",
   "execution_count": 32,
   "id": "3c96df0d",
   "metadata": {},
   "outputs": [
    {
     "name": "stderr",
     "output_type": "stream",
     "text": [
      "  0%|          | 0/10 [00:00<?, ?it/s]"
     ]
    },
    {
     "name": "stdout",
     "output_type": "stream",
     "text": [
      "Epoch: 1\n",
      "-------\n",
      "Train loss: 1.58058 | Train acc: 42.19%\n"
     ]
    },
    {
     "name": "stderr",
     "output_type": "stream",
     "text": [
      " 10%|█         | 1/10 [00:30<04:32, 30.32s/it]"
     ]
    },
    {
     "name": "stdout",
     "output_type": "stream",
     "text": [
      "Test loss: 1.26668 | Test accuracy: 53.65%\n",
      "\n",
      "Epoch: 2\n",
      "-------\n",
      "Train loss: 1.29987 | Train acc: 52.88%\n"
     ]
    },
    {
     "name": "stderr",
     "output_type": "stream",
     "text": [
      " 20%|██        | 2/10 [01:00<04:01, 30.21s/it]"
     ]
    },
    {
     "name": "stdout",
     "output_type": "stream",
     "text": [
      "Test loss: 1.10030 | Test accuracy: 61.04%\n",
      "\n",
      "Epoch: 3\n",
      "-------\n",
      "Train loss: 1.18754 | Train acc: 57.52%\n"
     ]
    },
    {
     "name": "stderr",
     "output_type": "stream",
     "text": [
      " 30%|███       | 3/10 [01:30<03:31, 30.26s/it]"
     ]
    },
    {
     "name": "stdout",
     "output_type": "stream",
     "text": [
      "Test loss: 1.04627 | Test accuracy: 63.08%\n",
      "\n",
      "Epoch: 4\n",
      "-------\n",
      "Train loss: 1.11159 | Train acc: 60.23%\n"
     ]
    },
    {
     "name": "stderr",
     "output_type": "stream",
     "text": [
      " 40%|████      | 4/10 [02:00<03:00, 30.16s/it]"
     ]
    },
    {
     "name": "stdout",
     "output_type": "stream",
     "text": [
      "Test loss: 0.98182 | Test accuracy: 65.01%\n",
      "\n",
      "Epoch: 5\n",
      "-------\n",
      "Train loss: 1.06012 | Train acc: 62.15%\n"
     ]
    },
    {
     "name": "stderr",
     "output_type": "stream",
     "text": [
      " 50%|█████     | 5/10 [02:30<02:30, 30.18s/it]"
     ]
    },
    {
     "name": "stdout",
     "output_type": "stream",
     "text": [
      "Test loss: 0.93333 | Test accuracy: 67.04%\n",
      "\n",
      "Epoch: 6\n",
      "-------\n",
      "Train loss: 1.02530 | Train acc: 63.58%\n"
     ]
    },
    {
     "name": "stderr",
     "output_type": "stream",
     "text": [
      " 60%|██████    | 6/10 [03:01<02:00, 30.21s/it]"
     ]
    },
    {
     "name": "stdout",
     "output_type": "stream",
     "text": [
      "Test loss: 0.89741 | Test accuracy: 68.37%\n",
      "\n",
      "Epoch: 7\n",
      "-------\n",
      "Train loss: 0.99067 | Train acc: 64.95%\n"
     ]
    },
    {
     "name": "stderr",
     "output_type": "stream",
     "text": [
      " 70%|███████   | 7/10 [03:31<01:30, 30.17s/it]"
     ]
    },
    {
     "name": "stdout",
     "output_type": "stream",
     "text": [
      "Test loss: 0.89789 | Test accuracy: 68.68%\n",
      "\n",
      "Epoch: 8\n",
      "-------\n",
      "Train loss: 0.96291 | Train acc: 65.80%\n"
     ]
    },
    {
     "name": "stderr",
     "output_type": "stream",
     "text": [
      " 80%|████████  | 8/10 [04:01<01:00, 30.21s/it]"
     ]
    },
    {
     "name": "stdout",
     "output_type": "stream",
     "text": [
      "Test loss: 0.85347 | Test accuracy: 70.38%\n",
      "\n",
      "Epoch: 9\n",
      "-------\n",
      "Train loss: 0.94515 | Train acc: 66.76%\n"
     ]
    },
    {
     "name": "stderr",
     "output_type": "stream",
     "text": [
      " 90%|█████████ | 9/10 [04:31<00:30, 30.10s/it]"
     ]
    },
    {
     "name": "stdout",
     "output_type": "stream",
     "text": [
      "Test loss: 0.82982 | Test accuracy: 70.87%\n",
      "\n",
      "Epoch: 10\n",
      "-------\n",
      "Train loss: 0.92358 | Train acc: 67.25%\n"
     ]
    },
    {
     "name": "stderr",
     "output_type": "stream",
     "text": [
      "100%|██████████| 10/10 [05:01<00:00, 30.17s/it]"
     ]
    },
    {
     "name": "stdout",
     "output_type": "stream",
     "text": [
      "Test loss: 0.82743 | Test accuracy: 71.00%\n",
      "\n"
     ]
    },
    {
     "name": "stderr",
     "output_type": "stream",
     "text": [
      "\n"
     ]
    }
   ],
   "source": [
    "# Import tqdm for progress bar\n",
    "from tqdm.auto import tqdm\n",
    "\n",
    "model_0_train_results = {\"loss\": [], \"accuracy\": []}\n",
    "model_0_test_results = {\"loss\": [], \"accuracy\": []}\n",
    "\n",
    "torch.manual_seed(42) # for reproducibility\n",
    "\n",
    "num_epochs = 10\n",
    "for epoch in tqdm(range(num_epochs)):\n",
    "    print(f\"Epoch: {epoch+1}\\n-------\")\n",
    "    train_loss, train_acc = train_loop(model=model_0,\n",
    "                                       data_loader=train_dataloader,\n",
    "                                       loss_fn=loss_fn,\n",
    "                                       optimizer=optimizer,\n",
    "                                       metric=train_metric)\n",
    "\n",
    "    test_loss, test_acc = test_loop(model=model_0,\n",
    "                                    data_loader=test_dataloader,\n",
    "                                    loss_fn=loss_fn,\n",
    "                                    metric=test_metric)\n",
    "\n",
    "    model_0_train_results[\"loss\"].append(train_loss)\n",
    "    model_0_train_results[\"accuracy\"].append(train_acc)\n",
    "    model_0_test_results[\"loss\"].append(test_loss)\n",
    "    model_0_test_results[\"accuracy\"].append(test_acc)\n",
    "\n",
    "\n"
   ]
  },
  {
   "cell_type": "code",
   "execution_count": 33,
   "id": "c1d8b8f2",
   "metadata": {},
   "outputs": [],
   "source": [
    "# Setup loss function and optimizer\n",
    "loss_fn = nn.CrossEntropyLoss()\n",
    "optimizer = torch.optim.Adam(params=model_1.parameters(), lr=1e-3)"
   ]
  },
  {
   "cell_type": "markdown",
   "id": "e43cac27",
   "metadata": {},
   "source": [
    "### Train Model 1"
   ]
  },
  {
   "cell_type": "code",
   "execution_count": 34,
   "id": "31c0008e",
   "metadata": {},
   "outputs": [
    {
     "name": "stderr",
     "output_type": "stream",
     "text": [
      "  0%|          | 0/10 [00:00<?, ?it/s]"
     ]
    },
    {
     "name": "stdout",
     "output_type": "stream",
     "text": [
      "Epoch: 1\n",
      "-------\n",
      "Train loss: 1.62705 | Train acc: 39.47%\n"
     ]
    },
    {
     "name": "stderr",
     "output_type": "stream",
     "text": [
      " 10%|█         | 1/10 [00:31<04:46, 31.85s/it]"
     ]
    },
    {
     "name": "stdout",
     "output_type": "stream",
     "text": [
      "Test loss: 1.22995 | Test accuracy: 54.33%\n",
      "\n",
      "Epoch: 2\n",
      "-------\n",
      "Train loss: 1.23459 | Train acc: 55.29%\n"
     ]
    },
    {
     "name": "stderr",
     "output_type": "stream",
     "text": [
      " 20%|██        | 2/10 [01:03<04:13, 31.69s/it]"
     ]
    },
    {
     "name": "stdout",
     "output_type": "stream",
     "text": [
      "Test loss: 0.98667 | Test accuracy: 64.89%\n",
      "\n",
      "Epoch: 3\n",
      "-------\n",
      "Train loss: 1.08083 | Train acc: 61.19%\n"
     ]
    },
    {
     "name": "stderr",
     "output_type": "stream",
     "text": [
      " 30%|███       | 3/10 [01:35<03:41, 31.70s/it]"
     ]
    },
    {
     "name": "stdout",
     "output_type": "stream",
     "text": [
      "Test loss: 0.90737 | Test accuracy: 67.97%\n",
      "\n",
      "Epoch: 4\n",
      "-------\n",
      "Train loss: 1.00271 | Train acc: 64.32%\n"
     ]
    },
    {
     "name": "stderr",
     "output_type": "stream",
     "text": [
      " 40%|████      | 4/10 [02:07<03:10, 31.79s/it]"
     ]
    },
    {
     "name": "stdout",
     "output_type": "stream",
     "text": [
      "Test loss: 0.86131 | Test accuracy: 69.88%\n",
      "\n",
      "Epoch: 5\n",
      "-------\n",
      "Train loss: 0.94775 | Train acc: 66.47%\n"
     ]
    },
    {
     "name": "stderr",
     "output_type": "stream",
     "text": [
      " 50%|█████     | 5/10 [02:38<02:38, 31.73s/it]"
     ]
    },
    {
     "name": "stdout",
     "output_type": "stream",
     "text": [
      "Test loss: 0.88832 | Test accuracy: 68.06%\n",
      "\n",
      "Epoch: 6\n",
      "-------\n",
      "Train loss: 0.91356 | Train acc: 67.68%\n"
     ]
    },
    {
     "name": "stderr",
     "output_type": "stream",
     "text": [
      " 60%|██████    | 6/10 [03:10<02:06, 31.73s/it]"
     ]
    },
    {
     "name": "stdout",
     "output_type": "stream",
     "text": [
      "Test loss: 0.82049 | Test accuracy: 70.74%\n",
      "\n",
      "Epoch: 7\n",
      "-------\n",
      "Train loss: 0.88359 | Train acc: 68.90%\n"
     ]
    },
    {
     "name": "stderr",
     "output_type": "stream",
     "text": [
      " 70%|███████   | 7/10 [03:41<01:34, 31.54s/it]"
     ]
    },
    {
     "name": "stdout",
     "output_type": "stream",
     "text": [
      "Test loss: 0.79325 | Test accuracy: 72.28%\n",
      "\n",
      "Epoch: 8\n",
      "-------\n",
      "Train loss: 0.85706 | Train acc: 69.88%\n"
     ]
    },
    {
     "name": "stderr",
     "output_type": "stream",
     "text": [
      " 80%|████████  | 8/10 [04:13<01:03, 31.54s/it]"
     ]
    },
    {
     "name": "stdout",
     "output_type": "stream",
     "text": [
      "Test loss: 0.78398 | Test accuracy: 72.60%\n",
      "\n",
      "Epoch: 9\n",
      "-------\n",
      "Train loss: 0.83678 | Train acc: 70.64%\n"
     ]
    },
    {
     "name": "stderr",
     "output_type": "stream",
     "text": [
      " 90%|█████████ | 9/10 [04:44<00:31, 31.52s/it]"
     ]
    },
    {
     "name": "stdout",
     "output_type": "stream",
     "text": [
      "Test loss: 0.76569 | Test accuracy: 73.70%\n",
      "\n",
      "Epoch: 10\n",
      "-------\n",
      "Train loss: 0.82739 | Train acc: 70.74%\n"
     ]
    },
    {
     "name": "stderr",
     "output_type": "stream",
     "text": [
      "100%|██████████| 10/10 [05:16<00:00, 31.62s/it]"
     ]
    },
    {
     "name": "stdout",
     "output_type": "stream",
     "text": [
      "Test loss: 0.73341 | Test accuracy: 74.12%\n",
      "\n"
     ]
    },
    {
     "name": "stderr",
     "output_type": "stream",
     "text": [
      "\n"
     ]
    }
   ],
   "source": [
    "# Import tqdm for progress bar\n",
    "from tqdm.auto import tqdm\n",
    "\n",
    "model_1_train_results = {\"loss\": [], \"accuracy\": []}\n",
    "model_1_test_results = {\"loss\": [], \"accuracy\": []}\n",
    "\n",
    "torch.manual_seed(42) # for reproducibility\n",
    "\n",
    "num_epochs = 10\n",
    "for epoch in tqdm(range(num_epochs)):\n",
    "    print(f\"Epoch: {epoch+1}\\n-------\")\n",
    "    train_loss, train_acc = train_loop(model=model_1,\n",
    "               data_loader=train_dataloader,\n",
    "               loss_fn=loss_fn,\n",
    "               optimizer=optimizer,\n",
    "               metric=train_metric)\n",
    "               \n",
    "    test_loss, test_acc = test_loop(model=model_1,\n",
    "              data_loader=test_dataloader,\n",
    "              loss_fn=loss_fn,\n",
    "              metric=test_metric)\n",
    "\n",
    "    model_1_train_results[\"loss\"].append(train_loss)\n",
    "    model_1_train_results[\"accuracy\"].append(train_acc)\n",
    "    model_1_test_results[\"loss\"].append(test_loss)\n",
    "    model_1_test_results[\"accuracy\"].append(test_acc)"
   ]
  },
  {
   "cell_type": "markdown",
   "id": "fdcfc654",
   "metadata": {},
   "source": [
    "### Train Model 2"
   ]
  },
  {
   "cell_type": "code",
   "execution_count": 35,
   "id": "20a944e5",
   "metadata": {},
   "outputs": [],
   "source": [
    "# Setup loss function and optimizer\n",
    "loss_fn = nn.CrossEntropyLoss()\n",
    "optimizer = torch.optim.Adam(params=model_2.fc.parameters(), lr=1e-3)"
   ]
  },
  {
   "cell_type": "code",
   "execution_count": 36,
   "id": "4d47a2a4",
   "metadata": {},
   "outputs": [
    {
     "name": "stderr",
     "output_type": "stream",
     "text": [
      "  0%|          | 0/10 [00:00<?, ?it/s]"
     ]
    },
    {
     "name": "stdout",
     "output_type": "stream",
     "text": [
      "Epoch: 1\n",
      "-------\n",
      "Train loss: 1.79630 | Train acc: 36.31%\n"
     ]
    },
    {
     "name": "stderr",
     "output_type": "stream",
     "text": [
      " 10%|█         | 1/10 [00:48<07:13, 48.15s/it]"
     ]
    },
    {
     "name": "stdout",
     "output_type": "stream",
     "text": [
      "Test loss: 1.73414 | Test accuracy: 39.38%\n",
      "\n",
      "Epoch: 2\n",
      "-------\n",
      "Train loss: 1.67416 | Train acc: 40.56%\n"
     ]
    },
    {
     "name": "stderr",
     "output_type": "stream",
     "text": [
      " 20%|██        | 2/10 [01:33<06:10, 46.35s/it]"
     ]
    },
    {
     "name": "stdout",
     "output_type": "stream",
     "text": [
      "Test loss: 1.60808 | Test accuracy: 43.55%\n",
      "\n",
      "Epoch: 3\n",
      "-------\n",
      "Train loss: 1.65199 | Train acc: 41.53%\n"
     ]
    },
    {
     "name": "stderr",
     "output_type": "stream",
     "text": [
      " 30%|███       | 3/10 [02:18<05:20, 45.81s/it]"
     ]
    },
    {
     "name": "stdout",
     "output_type": "stream",
     "text": [
      "Test loss: 1.61351 | Test accuracy: 43.36%\n",
      "\n",
      "Epoch: 4\n",
      "-------\n",
      "Train loss: 1.64727 | Train acc: 41.46%\n"
     ]
    },
    {
     "name": "stderr",
     "output_type": "stream",
     "text": [
      " 40%|████      | 4/10 [03:03<04:33, 45.56s/it]"
     ]
    },
    {
     "name": "stdout",
     "output_type": "stream",
     "text": [
      "Test loss: 1.65335 | Test accuracy: 42.18%\n",
      "\n",
      "Epoch: 5\n",
      "-------\n",
      "Train loss: 1.64435 | Train acc: 41.70%\n"
     ]
    },
    {
     "name": "stderr",
     "output_type": "stream",
     "text": [
      " 50%|█████     | 5/10 [03:48<03:47, 45.48s/it]"
     ]
    },
    {
     "name": "stdout",
     "output_type": "stream",
     "text": [
      "Test loss: 1.57462 | Test accuracy: 44.89%\n",
      "\n",
      "Epoch: 6\n",
      "-------\n",
      "Train loss: 1.64373 | Train acc: 41.84%\n"
     ]
    },
    {
     "name": "stderr",
     "output_type": "stream",
     "text": [
      " 60%|██████    | 6/10 [04:35<03:03, 45.76s/it]"
     ]
    },
    {
     "name": "stdout",
     "output_type": "stream",
     "text": [
      "Test loss: 1.62356 | Test accuracy: 43.07%\n",
      "\n",
      "Epoch: 7\n",
      "-------\n",
      "Train loss: 1.63976 | Train acc: 42.13%\n"
     ]
    },
    {
     "name": "stderr",
     "output_type": "stream",
     "text": [
      " 70%|███████   | 7/10 [05:20<02:16, 45.54s/it]"
     ]
    },
    {
     "name": "stdout",
     "output_type": "stream",
     "text": [
      "Test loss: 1.60165 | Test accuracy: 43.39%\n",
      "\n",
      "Epoch: 8\n",
      "-------\n",
      "Train loss: 1.64298 | Train acc: 41.64%\n"
     ]
    },
    {
     "name": "stderr",
     "output_type": "stream",
     "text": [
      " 80%|████████  | 8/10 [06:05<01:30, 45.43s/it]"
     ]
    },
    {
     "name": "stdout",
     "output_type": "stream",
     "text": [
      "Test loss: 1.62377 | Test accuracy: 43.45%\n",
      "\n",
      "Epoch: 9\n",
      "-------\n",
      "Train loss: 1.63495 | Train acc: 42.16%\n"
     ]
    },
    {
     "name": "stderr",
     "output_type": "stream",
     "text": [
      " 90%|█████████ | 9/10 [06:50<00:45, 45.33s/it]"
     ]
    },
    {
     "name": "stdout",
     "output_type": "stream",
     "text": [
      "Test loss: 1.62897 | Test accuracy: 43.22%\n",
      "\n",
      "Epoch: 10\n",
      "-------\n",
      "Train loss: 1.64307 | Train acc: 41.83%\n"
     ]
    },
    {
     "name": "stderr",
     "output_type": "stream",
     "text": [
      "100%|██████████| 10/10 [07:35<00:00, 45.57s/it]"
     ]
    },
    {
     "name": "stdout",
     "output_type": "stream",
     "text": [
      "Test loss: 1.67797 | Test accuracy: 42.40%\n",
      "\n"
     ]
    },
    {
     "name": "stderr",
     "output_type": "stream",
     "text": [
      "\n"
     ]
    }
   ],
   "source": [
    "# Import tqdm for progress bar\n",
    "from tqdm.auto import tqdm\n",
    "\n",
    "model_2_train_results = {\"loss\": [], \"accuracy\": []}\n",
    "model_2_test_results = {\"loss\": [], \"accuracy\": []}\n",
    "\n",
    "torch.manual_seed(42) # for reproducibility\n",
    "\n",
    "num_epochs = 10\n",
    "for epoch in tqdm(range(num_epochs)):\n",
    "    print(f\"Epoch: {epoch+1}\\n-------\")\n",
    "    train_loss, test_loss = train_loop(model=model_2,\n",
    "               data_loader=train_dataloader,\n",
    "               loss_fn=loss_fn,\n",
    "               optimizer=optimizer,\n",
    "               metric=train_metric)\n",
    "\n",
    "    test_loop(model=model_2,\n",
    "              data_loader=test_dataloader,\n",
    "              loss_fn=loss_fn,\n",
    "              metric=test_metric)\n",
    "\n",
    "    model_2_train_results[\"loss\"].append(train_loss)\n",
    "    model_2_train_results[\"accuracy\"].append(train_acc)\n",
    "    model_2_test_results[\"loss\"].append(test_loss)\n",
    "    model_2_test_results[\"accuracy\"].append(test_acc)"
   ]
  },
  {
   "cell_type": "markdown",
   "id": "66aa6437",
   "metadata": {},
   "source": [
    "# Compare results of each model"
   ]
  },
  {
   "cell_type": "code",
   "execution_count": 37,
   "id": "295b6d9e",
   "metadata": {},
   "outputs": [
    {
     "data": {
      "image/png": "[encoded data removed]",
      "text/plain": [
       "<Figure size 1400x500 with 2 Axes>"
      ]
     },
     "metadata": {},
     "output_type": "display_data"
    },
    {
     "data": {
      "image/png": "[encoded data removed]",
      "text/plain": [
       "<Figure size 1400x500 with 2 Axes>"
      ]
     },
     "metadata": {},
     "output_type": "display_data"
    },
    {
     "data": {
      "image/png": "[encoded data removed]",
      "text/plain": [
       "<Figure size 1400x500 with 2 Axes>"
      ]
     },
     "metadata": {},
     "output_type": "display_data"
    }
   ],
   "source": [
    "# Plot accuracy and loss curves\n",
    "import matplotlib.pyplot as plt\n",
    "\n",
    "model_0_results = {\n",
    "    \"train\": model_0_train_results,\n",
    "    \"test\": model_0_test_results\n",
    "}\n",
    "\n",
    "model_1_results = {\n",
    "    \"train\": model_1_train_results,\n",
    "    \"test\": model_1_test_results\n",
    "}\n",
    "\n",
    "model_2_results = {\n",
    "    \"train\": model_2_train_results,\n",
    "    \"test\": model_2_test_results\n",
    "}\n",
    "\n",
    "# Dictionary of models\n",
    "models = {\n",
    "    \"SimpleCNN\": model_0_results,\n",
    "    \"ComplexCNN\": model_1_results,\n",
    "    \"ResNet18\": model_2_results\n",
    "}\n",
    "\n",
    "for model_name, results in models.items():\n",
    "    epochs = range(1, len(results[\"train\"][\"loss\"]) + 1)\n",
    "\n",
    "    # Plot a figure for each model with two subplots for accuracy and loss\n",
    "    fig, (ax1, ax2) = plt.subplots(1, 2, figsize=(14, 5))\n",
    "\n",
    "    ## Accuracy subplot\n",
    "    ax1.plot(epochs, results[\"train\"][\"accuracy\"], label=\"Accuracy\")\n",
    "    ax1.plot(epochs, results[\"test\"][\"accuracy\"], label=\"Test Accuracy\")\n",
    "    ax1.set_title(f\"{model_name}: Accuracy per Epoch\")\n",
    "    ax1.set_xlabel(\"Epochs\")\n",
    "    ax1.set_ylabel(\"Accuracy (%)\")\n",
    "    ax1.legend()\n",
    "    ax1.grid(True)\n",
    "\n",
    "    # Loss subplot\n",
    "    ax2.plot(epochs, results[\"train\"][\"loss\"], label=\"Loss\")\n",
    "    ax2.plot(epochs, results[\"test\"][\"loss\"], label=\"Loss\")\n",
    "    ax2.set_title(f\"{model_name}: Loss per Epoch\")\n",
    "    ax2.set_xlabel(\"Epochs\")\n",
    "    ax2.set_ylabel(\"Loss\")\n",
    "    ax2.legend()\n",
    "    ax2.grid(True)\n",
    "\n",
    "    plt.tight_layout()\n",
    "    plt.show()"
   ]
  },
  {
   "cell_type": "code",
   "execution_count": null,
   "id": "45a94f72",
   "metadata": {},
   "outputs": [],
   "source": []
  }
 ],
 "metadata": {
  "kernelspec": {
   "display_name": "Python 3",
   "language": "python",
   "name": "python3"
  },
  "language_info": {
   "codemirror_mode": {
    "name": "ipython",
    "version": 3
   },
   "file_extension": ".py",
   "mimetype": "text/x-python",
   "name": "python",
   "nbconvert_exporter": "python",
   "pygments_lexer": "ipython3",
   "version": "3.9.7"
  }
 },
 "nbformat": 4,
 "nbformat_minor": 5
}
