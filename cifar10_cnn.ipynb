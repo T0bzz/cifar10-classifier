{
 "cells": [
  {
   "cell_type": "markdown",
   "id": "744cd592",
   "metadata": {},
   "source": [
    "## Setup & Data"
   ]
  },
  {
   "cell_type": "code",
   "execution_count": 20,
   "id": "06e3dd8c",
   "metadata": {},
   "outputs": [],
   "source": [
    "# Import pytorch\n",
    "import torch\n",
    "from torch import nn\n",
    "\n",
    "# Import torch vision\n",
    "import torchvision\n",
    "from torchvision import transforms, datasets\n",
    "\n",
    "# Import matplotlib for visualisation\n",
    "import matplotlib.pyplot as plt"
   ]
  },
  {
   "cell_type": "code",
   "execution_count": 21,
   "id": "e4fea721",
   "metadata": {},
   "outputs": [],
   "source": [
    "# Define augmentation and normalisation for training\n",
    "train_transform = transforms.Compose([\n",
    "    transforms.RandomHorizontalFlip(),\n",
    "    transforms.RandomCrop(32, padding=4),\n",
    "    transforms.RandomRotation(10),\n",
    "    transforms.ToTensor(),\n",
    "    transforms.Normalize((0.5,0.5,0.5), (0.5,0.5,0.5))\n",
    "])\n",
    "\n",
    "# Normalise and transform test data\n",
    "test_transform = transforms.Compose([\n",
    "    transforms.ToTensor(),\n",
    "    transforms.Normalize((0.5,0.5,0.5), (0.5,0.5,0.5))\n",
    "])\n",
    "\n",
    "# Setup training data\n",
    "train_data = datasets.CIFAR10(\n",
    "    root=\"sample_data\",\n",
    "    train=True,\n",
    "    download=True,\n",
    "    transform=train_transform,\n",
    "    target_transform=None\n",
    ")\n",
    "\n",
    "# Setup testing data\n",
    "test_data = datasets.CIFAR10(\n",
    "    root=\"sample_data\",\n",
    "    train=False,\n",
    "    download=True,\n",
    "    transform=test_transform\n",
    ")"
   ]
  },
  {
   "cell_type": "code",
   "execution_count": 22,
   "id": "6553c8a6",
   "metadata": {},
   "outputs": [
    {
     "data": {
      "text/plain": [
       "(tensor([[[-1.0000, -1.0000, -1.0000,  ..., -1.0000, -1.0000, -1.0000],\n",
       "          [-1.0000, -1.0000, -1.0000,  ..., -1.0000, -1.0000, -1.0000],\n",
       "          [-1.0000, -1.0000, -1.0000,  ..., -1.0000, -1.0000, -1.0000],\n",
       "          ...,\n",
       "          [-1.0000,  0.7255,  0.5765,  ..., -0.1137, -1.0000, -1.0000],\n",
       "          [-1.0000, -1.0000, -1.0000,  ...,  0.0588, -1.0000, -1.0000],\n",
       "          [-1.0000, -1.0000, -1.0000,  ...,  0.3412, -1.0000, -1.0000]],\n",
       " \n",
       "         [[-1.0000, -1.0000, -1.0000,  ..., -1.0000, -1.0000, -1.0000],\n",
       "          [-1.0000, -1.0000, -1.0000,  ..., -1.0000, -1.0000, -1.0000],\n",
       "          [-1.0000, -1.0000, -1.0000,  ..., -1.0000, -1.0000, -1.0000],\n",
       "          ...,\n",
       "          [-1.0000,  0.4275,  0.1765,  ..., -0.2235, -1.0000, -1.0000],\n",
       "          [-1.0000, -1.0000, -1.0000,  ..., -0.2000, -1.0000, -1.0000],\n",
       "          [-1.0000, -1.0000, -1.0000,  ...,  0.0275, -1.0000, -1.0000]],\n",
       " \n",
       "         [[-1.0000, -1.0000, -1.0000,  ..., -1.0000, -1.0000, -1.0000],\n",
       "          [-1.0000, -1.0000, -1.0000,  ..., -1.0000, -1.0000, -1.0000],\n",
       "          [-1.0000, -1.0000, -1.0000,  ..., -1.0000, -1.0000, -1.0000],\n",
       "          ...,\n",
       "          [-1.0000, -0.2863, -0.8275,  ..., -0.8118, -1.0000, -1.0000],\n",
       "          [-1.0000, -1.0000, -1.0000,  ..., -0.6549, -1.0000, -1.0000],\n",
       "          [-1.0000, -1.0000, -1.0000,  ..., -0.4510, -1.0000, -1.0000]]]),\n",
       " 6)"
      ]
     },
     "execution_count": 22,
     "metadata": {},
     "output_type": "execute_result"
    }
   ],
   "source": [
    "# Dislpay the first image and its corresponding lable from the training dataset\n",
    "img, label = train_data[0]\n",
    "img, label"
   ]
  },
  {
   "cell_type": "markdown",
   "id": "47f8c96f",
   "metadata": {},
   "source": [
    "# About the data\n",
    "\n",
    "- Input and output shapes\n",
    "- Lables\n",
    "- Sample images"
   ]
  },
  {
   "cell_type": "code",
   "execution_count": 23,
   "id": "f73c20d5",
   "metadata": {},
   "outputs": [
    {
     "name": "stdout",
     "output_type": "stream",
     "text": [
      "Per-sample input shape: torch.Size([3, 32, 32])\n",
      "Output shape: {label}\n"
     ]
    }
   ],
   "source": [
    "# Per-sample input shape\n",
    "print(f\"Per-sample input shape: {img.shape}\") # [3, 32, 32] -> 3 colour channels, 32 x 32\n",
    "\n",
    "# Output shape\n",
    "print(\"Output shape: {label}\") # scalar integer"
   ]
  },
  {
   "cell_type": "code",
   "execution_count": 24,
   "id": "4f93a95a",
   "metadata": {},
   "outputs": [
    {
     "data": {
      "text/plain": [
       "(50000, 50000, 10000, 10000)"
      ]
     },
     "execution_count": 24,
     "metadata": {},
     "output_type": "execute_result"
    }
   ],
   "source": [
    "# Number of samples\n",
    "len(train_data.data), len(train_data.targets), len(test_data.data), len(test_data.targets)"
   ]
  },
  {
   "cell_type": "code",
   "execution_count": 25,
   "id": "2117e13f",
   "metadata": {},
   "outputs": [
    {
     "data": {
      "text/plain": [
       "['airplane',\n",
       " 'automobile',\n",
       " 'bird',\n",
       " 'cat',\n",
       " 'deer',\n",
       " 'dog',\n",
       " 'frog',\n",
       " 'horse',\n",
       " 'ship',\n",
       " 'truck']"
      ]
     },
     "execution_count": 25,
     "metadata": {},
     "output_type": "execute_result"
    }
   ],
   "source": [
    "# Class names\n",
    "class_names = train_data.classes\n",
    "class_names"
   ]
  },
  {
   "cell_type": "code",
   "execution_count": 26,
   "id": "cef4efc3",
   "metadata": {},
   "outputs": [
    {
     "name": "stderr",
     "output_type": "stream",
     "text": [
      "Clipping input data to the valid range for imshow with RGB data ([0..1] for floats or [0..255] for integers). Got range [-1.0..0.7254902].\n",
      "Clipping input data to the valid range for imshow with RGB data ([0..1] for floats or [0..255] for integers). Got range [-1.0..0.99215686].\n",
      "Clipping input data to the valid range for imshow with RGB data ([0..1] for floats or [0..255] for integers). Got range [-1.0..0.92156863].\n",
      "Clipping input data to the valid range for imshow with RGB data ([0..1] for floats or [0..255] for integers). Got range [-1.0..0.70980394].\n",
      "Clipping input data to the valid range for imshow with RGB data ([0..1] for floats or [0..255] for integers). Got range [-1.0..0.96862745].\n",
      "Clipping input data to the valid range for imshow with RGB data ([0..1] for floats or [0..255] for integers). Got range [-1.0..0.4901961].\n",
      "Clipping input data to the valid range for imshow with RGB data ([0..1] for floats or [0..255] for integers). Got range [-1.0..0.85882354].\n",
      "Clipping input data to the valid range for imshow with RGB data ([0..1] for floats or [0..255] for integers). Got range [-1.0..0.8352941].\n",
      "Clipping input data to the valid range for imshow with RGB data ([0..1] for floats or [0..255] for integers). Got range [-1.0..1.0].\n",
      "Clipping input data to the valid range for imshow with RGB data ([0..1] for floats or [0..255] for integers). Got range [-1.0..1.0].\n",
      "Clipping input data to the valid range for imshow with RGB data ([0..1] for floats or [0..255] for integers). Got range [-1.0..1.0].\n",
      "Clipping input data to the valid range for imshow with RGB data ([0..1] for floats or [0..255] for integers). Got range [-1.0..1.0].\n",
      "Clipping input data to the valid range for imshow with RGB data ([0..1] for floats or [0..255] for integers). Got range [-1.0..0.105882406].\n",
      "Clipping input data to the valid range for imshow with RGB data ([0..1] for floats or [0..255] for integers). Got range [-1.0..0.78039217].\n",
      "Clipping input data to the valid range for imshow with RGB data ([0..1] for floats or [0..255] for integers). Got range [-1.0..1.0].\n",
      "Clipping input data to the valid range for imshow with RGB data ([0..1] for floats or [0..255] for integers). Got range [-1.0..0.99215686].\n"
     ]
    },
    {
     "data": {
      "image/png": "[encoded data removed]",
      "text/plain": [
       "<Figure size 900x900 with 16 Axes>"
      ]
     },
     "metadata": {},
     "output_type": "display_data"
    }
   ],
   "source": [
    "# Plot some more images\n",
    "torch.manual_seed(42)\n",
    "\n",
    "fig = plt.figure(figsize=(9,9))\n",
    "rows, cols = 4, 4\n",
    "for i in range(1, rows * cols + 1):\n",
    "    random_idx = torch.randint(0, len(train_data), size=[1]).item() # get a random sample from train_data\n",
    "    image, label = train_data[random_idx]\n",
    "\n",
    "    # Disaply each sample\n",
    "    fig.add_subplot(rows, cols, i)\n",
    "    plt.imshow(image.permute(1, 2, 0))\n",
    "    plt.title(class_names[label])\n",
    "    plt.axis(False)\n"
   ]
  },
  {
   "cell_type": "markdown",
   "id": "710a7550",
   "metadata": {},
   "source": [
    "# Prepare dataloader\n",
    "\n",
    "- Create batches of samples from train_data and test_data\n"
   ]
  },
  {
   "cell_type": "code",
   "execution_count": 27,
   "id": "8de99310",
   "metadata": {},
   "outputs": [
    {
     "name": "stdout",
     "output_type": "stream",
     "text": [
      "Train dataloader: 1563 batches of 32\n",
      "Test dataloader: 313 batches of 32\n"
     ]
    }
   ],
   "source": [
    "from torch.utils.data import DataLoader\n",
    "\n",
    "BATCH_SIZE = 32\n",
    "\n",
    "# Turn datasets into batches\n",
    "train_dataloader = DataLoader(\n",
    "    train_data, # dataset to turn into batches\n",
    "    batch_size=BATCH_SIZE, # number of samples per batch\n",
    "    shuffle=True # shuffle data per epoch -> improved generalisation\n",
    ")\n",
    "\n",
    "test_dataloader = DataLoader(\n",
    "    test_data,\n",
    "    batch_size=BATCH_SIZE,\n",
    "    shuffle=False\n",
    ")\n",
    "\n",
    "# Display batch sizes\n",
    "print(f\"Train dataloader: {len(train_dataloader)} batches of {BATCH_SIZE}\")\n",
    "print(f\"Test dataloader: {len(test_dataloader)} batches of {BATCH_SIZE}\")"
   ]
  },
  {
   "cell_type": "markdown",
   "id": "2cf511c5",
   "metadata": {},
   "source": [
    "# Model 0: Simple CNN"
   ]
  },
  {
   "cell_type": "code",
   "execution_count": 28,
   "id": "ffaec7ce",
   "metadata": {},
   "outputs": [
    {
     "data": {
      "text/plain": [
       "SimpleCNN(\n",
       "  (Conv1): Conv2d(3, 32, kernel_size=(3, 3), stride=(1, 1), padding=(1, 1))\n",
       "  (Conv2): Conv2d(32, 64, kernel_size=(3, 3), stride=(1, 1), padding=(1, 1))\n",
       "  (pool): MaxPool2d(kernel_size=2, stride=2, padding=0, dilation=1, ceil_mode=False)\n",
       "  (linear1): Linear(in_features=4096, out_features=128, bias=True)\n",
       "  (linear2): Linear(in_features=128, out_features=10, bias=True)\n",
       ")"
      ]
     },
     "execution_count": 28,
     "metadata": {},
     "output_type": "execute_result"
    }
   ],
   "source": [
    "import torch.nn.functional as F\n",
    "from helper_functions import flatten\n",
    "\n",
    "class SimpleCNN(nn.Module):\n",
    "    def __init__(self, input_shape: int, hidden_units: int, output_shape: int):\n",
    "        super().__init__()\n",
    "\n",
    "        # Convolutional layers\n",
    "        self.Conv1 = nn.Conv2d(in_channels=input_shape, # lowest level features (e.g. edges)\n",
    "                               out_channels=hidden_units,\n",
    "                               kernel_size=3,\n",
    "                               padding=1)\n",
    "\n",
    "        self.Conv2 = nn.Conv2d(in_channels=hidden_units, # higher level features (e.g. shapes)\n",
    "                               out_channels=hidden_units*2,\n",
    "                               kernel_size=3,\n",
    "                               padding=1)\n",
    "\n",
    "        # Pooling\n",
    "        self.pool = nn.MaxPool2d(kernel_size=2, # reduce spatial size\n",
    "                                 stride=2)\n",
    "\n",
    "        # Dynamically calculate flattened size for fully connected layer\n",
    "        with torch.no_grad():\n",
    "            dummy_input = torch.zeros(1, input_shape, 32, 32) # batch size of 1\n",
    "            x = self.pool(F.relu(self.Conv1(dummy_input)))\n",
    "            x = self.pool(F.relu(self.Conv2(x)))\n",
    "            flattened_size, _ = flatten(x)\n",
    "\n",
    "        # Fully connected layers (Classifier)\n",
    "        self.linear1 = nn.Linear(flattened_size, hidden_units*4) # 8*8 from 32x32 input image after 2x pooling\n",
    "        self.linear2 = nn.Linear(hidden_units*4, len(class_names))\n",
    "\n",
    "    def forward(self, x):\n",
    "        x = self.pool(F.relu(self.Conv1(x)))\n",
    "        x = self.pool(F.relu(self.Conv2(x)))\n",
    "        _, x = flatten(x)\n",
    "        x = F.relu(self.linear1(x))\n",
    "        x = self.linear2(x)\n",
    "        return x\n",
    "        \n",
    "model_0 = SimpleCNN(input_shape=3,\n",
    "                    hidden_units=32,\n",
    "                    output_shape=len(class_names))\n",
    "model_0"
   ]
  },
  {
   "cell_type": "markdown",
   "id": "2f370914",
   "metadata": {},
   "source": [
    "# Model 1: Complex CNN\n"
   ]
  },
  {
   "cell_type": "code",
   "execution_count": 29,
   "id": "989a78d7",
   "metadata": {},
   "outputs": [
    {
     "data": {
      "text/plain": [
       "ComplexCNN(\n",
       "  (conv_layers): Sequential(\n",
       "    (0): Conv2d(3, 32, kernel_size=(3, 3), stride=(1, 1), padding=(1, 1))\n",
       "    (1): BatchNorm2d(32, eps=1e-05, momentum=0.1, affine=True, track_running_stats=True)\n",
       "    (2): ReLU()\n",
       "    (3): MaxPool2d(kernel_size=2, stride=2, padding=0, dilation=1, ceil_mode=False)\n",
       "    (4): Conv2d(32, 64, kernel_size=(3, 3), stride=(1, 1), padding=(1, 1))\n",
       "    (5): BatchNorm2d(64, eps=1e-05, momentum=0.1, affine=True, track_running_stats=True)\n",
       "    (6): ReLU()\n",
       "    (7): MaxPool2d(kernel_size=2, stride=2, padding=0, dilation=1, ceil_mode=False)\n",
       "    (8): Conv2d(64, 128, kernel_size=(3, 3), stride=(1, 1), padding=(1, 1))\n",
       "    (9): BatchNorm2d(128, eps=1e-05, momentum=0.1, affine=True, track_running_stats=True)\n",
       "    (10): ReLU()\n",
       "    (11): MaxPool2d(kernel_size=2, stride=2, padding=0, dilation=1, ceil_mode=False)\n",
       "  )\n",
       "  (classifier): Sequential(\n",
       "    (0): Linear(in_features=2048, out_features=128, bias=True)\n",
       "    (1): ReLU()\n",
       "    (2): Dropout(p=0.5, inplace=False)\n",
       "    (3): Linear(in_features=128, out_features=10, bias=True)\n",
       "  )\n",
       ")"
      ]
     },
     "execution_count": 29,
     "metadata": {},
     "output_type": "execute_result"
    }
   ],
   "source": [
    "class ComplexCNN(nn.Module):\n",
    "    def __init__(self, input_shape: int, hidden_units: int, output_shape: int):\n",
    "        super().__init__()\n",
    "\n",
    "        # Convolutional layers with batch normalisation and max pooling\n",
    "        self.conv_layers = nn.Sequential(\n",
    "            nn.Conv2d(in_channels=input_shape,\n",
    "                      out_channels=hidden_units,\n",
    "                      kernel_size=3,\n",
    "                      padding=1),\n",
    "            nn.BatchNorm2d(num_features=hidden_units), # normalise activations of a layer at each batch -> improved training speed and stability\n",
    "            nn.ReLU(),\n",
    "            nn.MaxPool2d(kernel_size=2,\n",
    "                         stride=2),\n",
    "\n",
    "            nn.Conv2d(in_channels=hidden_units,\n",
    "                      out_channels=hidden_units*2,\n",
    "                      kernel_size=3,\n",
    "                      padding=1),\n",
    "            nn.BatchNorm2d(num_features=hidden_units*2),\n",
    "            nn.ReLU(),\n",
    "            nn.MaxPool2d(kernel_size=2,\n",
    "                         stride=2),\n",
    "\n",
    "            nn.Conv2d(in_channels=hidden_units*2,\n",
    "                      out_channels=hidden_units*4,\n",
    "                      kernel_size=3,\n",
    "                      padding=1),\n",
    "            nn.BatchNorm2d(num_features=hidden_units*4),\n",
    "            nn.ReLU(),\n",
    "            nn.MaxPool2d(kernel_size=2,\n",
    "                         stride=2)\n",
    "            )\n",
    "            \n",
    "        # Dynamically calcualte flattened size for fully connected layer\n",
    "        with torch.no_grad():\n",
    "            dummy_input = torch.zeros(1, input_shape, 32, 32) # batch size of 1\n",
    "            x = self.conv_layers(dummy_input)\n",
    "            flattened_size, _ = flatten(x)\n",
    "\n",
    "        # Fully connected layers (Classifier)\n",
    "        self.classifier = nn.Sequential(\n",
    "            nn.Linear(flattened_size, hidden_units*4),\n",
    "            nn.ReLU(),\n",
    "            nn.Dropout(p=0.5), # randomly zeroes some of the elements of the input tensor with probability p using samples from a Bernoulli distribution -> prevent overfitting\n",
    "            nn.Linear(hidden_units*4, output_shape)\n",
    "        )\n",
    "    \n",
    "    def forward(self, x):\n",
    "        x = self.conv_layers(x)\n",
    "        _, x = flatten(x)\n",
    "        x = self.classifier(x)\n",
    "        return x\n",
    "\n",
    "model_1 = ComplexCNN(input_shape=3,\n",
    "                    hidden_units=32,\n",
    "                    output_shape=len(class_names))\n",
    "model_1\n"
   ]
  },
  {
   "cell_type": "markdown",
   "id": "2d6ff0fd",
   "metadata": {},
   "source": [
    "# Model 2: Pretrained / Loaded CNN"
   ]
  },
  {
   "cell_type": "code",
   "execution_count": 30,
   "id": "cc8e1736",
   "metadata": {},
   "outputs": [
    {
     "name": "stdout",
     "output_type": "stream",
     "text": [
      "['fc.weight', 'fc.bias']\n"
     ]
    }
   ],
   "source": [
    "import torch\n",
    "from torchvision import models\n",
    "\n",
    "# Load pretrained ResNet18\n",
    "resnet = models.resnet18(weights=\"IMAGENET1K_V1\")\n",
    "\n",
    "# Freeze all layers\n",
    "for param in resnet.parameters():\n",
    "    param.requires_grad = False\n",
    "\n",
    "# Replace the final layer for CIFAR-10 (10 classes)\n",
    "resnet.fc = torch.nn.Linear(resnet.fc.in_features, 10)\n",
    "\n",
    "# Now only the final fc layer will train\n",
    "print([name for name, param in resnet.named_parameters() if param.requires_grad])\n"
   ]
  },
  {
   "cell_type": "markdown",
   "id": "d8ca5f9f",
   "metadata": {},
   "source": [
    "# Train the models"
   ]
  },
  {
   "cell_type": "markdown",
   "id": "3a3bed30",
   "metadata": {},
   "source": [
    "### Setup evaluation metric"
   ]
  },
  {
   "cell_type": "code",
   "execution_count": 31,
   "id": "61c51740",
   "metadata": {},
   "outputs": [],
   "source": [
    "import torchmetrics\n",
    "from torchmetrics import Accuracy\n",
    "\n",
    "# Initialise accuracy metric\n",
    "metric = Accuracy(task=\"multiclass\", num_classes=len(class_names))"
   ]
  },
  {
   "cell_type": "markdown",
   "id": "a16142c6",
   "metadata": {},
   "source": [
    "### Functionise train and test loops"
   ]
  },
  {
   "cell_type": "code",
   "execution_count": 32,
   "id": "8f82dfe4",
   "metadata": {},
   "outputs": [],
   "source": [
    "def train_loop(model: torch.nn.Module,\n",
    "               data_loader: torch.utils.data.DataLoader,\n",
    "               loss_fn: nn.Module,\n",
    "               optimizer: torch.optim.Optimizer,\n",
    "               metric: torchmetrics.Accuracy):\n",
    "    train_loss = 0\n",
    "\n",
    "    for batch, (X, y) in enumerate(data_loader):\n",
    "        # 1. Forward pass\n",
    "        y_pred = model(X)\n",
    "\n",
    "        # 2. Calculate loss and update accuracy metric\n",
    "        loss = loss_fn(y_pred, y)\n",
    "        train_loss += loss\n",
    "\n",
    "        metric.update(y_pred, y)\n",
    "\n",
    "        # 3. Optimiser zero grad\n",
    "        optimizer.zero_grad()\n",
    "\n",
    "        # 4. Loss backward\n",
    "        loss.backward()\n",
    "\n",
    "        # 5. Optimiser step\n",
    "        optimizer.step()\n",
    "\n",
    "    # Calculate loss and accuracy per epoch\n",
    "    train_loss /= len(data_loader)\n",
    "    train_acc = metric.compute().item() * 100 # to percentage\n",
    "    metric.reset() # reset for next epoch\n",
    "    print(f\"Train loss: {train_loss:.5f} | Train acc: {train_acc:.2f}%\")\n",
    "\n",
    "\n",
    "def test_loop(model: torch.nn.Module,\n",
    "              data_loader: torch.utils.data.DataLoader,\n",
    "              loss_fn: nn.Module,\n",
    "              metric: torchmetrics.Accuracy):\n",
    "    test_loss = 0\n",
    "\n",
    "    # Turn on evaluation\n",
    "    model.eval()\n",
    "\n",
    "    # Turn on inference context manager\n",
    "    with torch.inference_mode():\n",
    "        for X, y in data_loader:\n",
    "            # 1. Forward pass\n",
    "            test_pred = model(X)\n",
    "\n",
    "            # 2. Calculate loss and update accuracy metric\n",
    "            loss = loss_fn(test_pred, y)\n",
    "            test_loss += loss\n",
    "\n",
    "            metric.update(test_pred, y)\n",
    "\n",
    "    # Adjust metrics and print out\n",
    "        test_loss /= len(data_loader)\n",
    "        test_acc = metric.compute().item() * 100 # to percentage\n",
    "        metric.reset()\n",
    "        print(f\"Test loss: {test_loss:.5f} | Test accuracy: {test_acc:.2f}%\\n\")"
   ]
  },
  {
   "cell_type": "markdown",
   "id": "625a7958",
   "metadata": {},
   "source": [
    "### Setup loss function and optimizer for model 0"
   ]
  },
  {
   "cell_type": "markdown",
   "id": "14b56f06",
   "metadata": {},
   "source": [
    "### Train Model 0"
   ]
  },
  {
   "cell_type": "code",
   "execution_count": 33,
   "id": "b0681039",
   "metadata": {},
   "outputs": [],
   "source": [
    "# Setup loss function and optimizer\n",
    "loss_fn = nn.CrossEntropyLoss()\n",
    "optimizer = torch.optim.SGD(params=model_0.parameters(), lr=0.1)"
   ]
  },
  {
   "cell_type": "code",
   "execution_count": 34,
   "id": "3c96df0d",
   "metadata": {},
   "outputs": [
    {
     "name": "stderr",
     "output_type": "stream",
     "text": [
      "  0%|          | 0/10 [00:00<?, ?it/s]"
     ]
    },
    {
     "name": "stdout",
     "output_type": "stream",
     "text": [
      "Epoch: 1\n",
      "-------\n",
      "Train loss: 1.67350 | Train acc: 38.91%\n"
     ]
    },
    {
     "name": "stderr",
     "output_type": "stream",
     "text": [
      " 10%|█         | 1/10 [00:49<07:28, 49.82s/it]"
     ]
    },
    {
     "name": "stdout",
     "output_type": "stream",
     "text": [
      "Test loss: 1.34931 | Test accuracy: 51.01%\n",
      "\n",
      "Epoch: 2\n",
      "-------\n",
      "Train loss: 1.31360 | Train acc: 52.49%\n"
     ]
    },
    {
     "name": "stderr",
     "output_type": "stream",
     "text": [
      " 20%|██        | 2/10 [01:43<06:58, 52.27s/it]"
     ]
    },
    {
     "name": "stdout",
     "output_type": "stream",
     "text": [
      "Test loss: 1.11002 | Test accuracy: 60.47%\n",
      "\n",
      "Epoch: 3\n",
      "-------\n",
      "Train loss: 1.15749 | Train acc: 58.71%\n"
     ]
    },
    {
     "name": "stderr",
     "output_type": "stream",
     "text": [
      " 30%|███       | 3/10 [02:37<06:11, 53.00s/it]"
     ]
    },
    {
     "name": "stdout",
     "output_type": "stream",
     "text": [
      "Test loss: 1.00411 | Test accuracy: 65.01%\n",
      "\n",
      "Epoch: 4\n",
      "-------\n",
      "Train loss: 1.07173 | Train acc: 62.22%\n"
     ]
    },
    {
     "name": "stderr",
     "output_type": "stream",
     "text": [
      " 40%|████      | 4/10 [03:31<05:19, 53.22s/it]"
     ]
    },
    {
     "name": "stdout",
     "output_type": "stream",
     "text": [
      "Test loss: 1.01421 | Test accuracy: 65.20%\n",
      "\n",
      "Epoch: 5\n",
      "-------\n",
      "Train loss: 1.00788 | Train acc: 64.57%\n"
     ]
    },
    {
     "name": "stderr",
     "output_type": "stream",
     "text": [
      " 50%|█████     | 5/10 [04:25<04:27, 53.53s/it]"
     ]
    },
    {
     "name": "stdout",
     "output_type": "stream",
     "text": [
      "Test loss: 0.89572 | Test accuracy: 69.25%\n",
      "\n",
      "Epoch: 6\n",
      "-------\n",
      "Train loss: 0.96924 | Train acc: 65.98%\n"
     ]
    },
    {
     "name": "stderr",
     "output_type": "stream",
     "text": [
      " 60%|██████    | 6/10 [05:18<03:33, 53.44s/it]"
     ]
    },
    {
     "name": "stdout",
     "output_type": "stream",
     "text": [
      "Test loss: 0.95272 | Test accuracy: 68.50%\n",
      "\n",
      "Epoch: 7\n",
      "-------\n",
      "Train loss: 0.92957 | Train acc: 67.21%\n"
     ]
    },
    {
     "name": "stderr",
     "output_type": "stream",
     "text": [
      " 70%|███████   | 7/10 [06:09<02:37, 52.49s/it]"
     ]
    },
    {
     "name": "stdout",
     "output_type": "stream",
     "text": [
      "Test loss: 0.88503 | Test accuracy: 69.46%\n",
      "\n",
      "Epoch: 8\n",
      "-------\n",
      "Train loss: 0.90190 | Train acc: 68.41%\n"
     ]
    },
    {
     "name": "stderr",
     "output_type": "stream",
     "text": [
      " 80%|████████  | 8/10 [07:01<01:44, 52.45s/it]"
     ]
    },
    {
     "name": "stdout",
     "output_type": "stream",
     "text": [
      "Test loss: 0.91496 | Test accuracy: 69.61%\n",
      "\n",
      "Epoch: 9\n",
      "-------\n",
      "Train loss: 0.88799 | Train acc: 69.03%\n"
     ]
    },
    {
     "name": "stderr",
     "output_type": "stream",
     "text": [
      " 90%|█████████ | 9/10 [07:54<00:52, 52.72s/it]"
     ]
    },
    {
     "name": "stdout",
     "output_type": "stream",
     "text": [
      "Test loss: 0.79251 | Test accuracy: 72.80%\n",
      "\n",
      "Epoch: 10\n",
      "-------\n",
      "Train loss: 0.86517 | Train acc: 69.94%\n"
     ]
    },
    {
     "name": "stderr",
     "output_type": "stream",
     "text": [
      "100%|██████████| 10/10 [08:48<00:00, 52.85s/it]"
     ]
    },
    {
     "name": "stdout",
     "output_type": "stream",
     "text": [
      "Test loss: 0.80711 | Test accuracy: 72.06%\n",
      "\n"
     ]
    },
    {
     "name": "stderr",
     "output_type": "stream",
     "text": [
      "\n"
     ]
    }
   ],
   "source": [
    "# Import tqdm for progress bar\n",
    "from tqdm.auto import tqdm\n",
    "\n",
    "torch.manual_seed(42) # for reproducibility\n",
    "\n",
    "num_epochs = 10\n",
    "for epoch in tqdm(range(num_epochs)):\n",
    "    print(f\"Epoch: {epoch+1}\\n-------\")\n",
    "    train_loop(model=model_0,\n",
    "               data_loader=train_dataloader,\n",
    "               loss_fn=loss_fn,\n",
    "               optimizer=optimizer,\n",
    "               metric=metric)\n",
    "\n",
    "    test_loop(model=model_0,\n",
    "              data_loader=test_dataloader,\n",
    "              loss_fn=loss_fn,\n",
    "              metric=metric)"
   ]
  },
  {
   "cell_type": "code",
   "execution_count": 35,
   "id": "c1d8b8f2",
   "metadata": {},
   "outputs": [],
   "source": [
    "# Setup loss function and optimizer\n",
    "loss_fn = nn.CrossEntropyLoss()\n",
    "optimizer = torch.optim.SGD(params=model_1.parameters(), lr=0.1)"
   ]
  },
  {
   "cell_type": "markdown",
   "id": "e43cac27",
   "metadata": {},
   "source": [
    "### Train Model 1"
   ]
  },
  {
   "cell_type": "code",
   "execution_count": 36,
   "id": "31c0008e",
   "metadata": {},
   "outputs": [
    {
     "name": "stderr",
     "output_type": "stream",
     "text": [
      "  0%|          | 0/10 [00:00<?, ?it/s]"
     ]
    },
    {
     "name": "stdout",
     "output_type": "stream",
     "text": [
      "Epoch: 1\n",
      "-------\n",
      "Train loss: 1.93440 | Train acc: 27.13%\n"
     ]
    },
    {
     "name": "stderr",
     "output_type": "stream",
     "text": [
      " 10%|█         | 1/10 [01:08<10:13, 68.19s/it]"
     ]
    },
    {
     "name": "stdout",
     "output_type": "stream",
     "text": [
      "Test loss: 1.72631 | Test accuracy: 40.29%\n",
      "\n",
      "Epoch: 2\n",
      "-------\n",
      "Train loss: 1.63286 | Train acc: 39.59%\n"
     ]
    },
    {
     "name": "stderr",
     "output_type": "stream",
     "text": [
      " 20%|██        | 2/10 [02:13<08:53, 66.67s/it]"
     ]
    },
    {
     "name": "stdout",
     "output_type": "stream",
     "text": [
      "Test loss: 1.37568 | Test accuracy: 49.74%\n",
      "\n",
      "Epoch: 3\n",
      "-------\n",
      "Train loss: 1.26895 | Train acc: 53.92%\n"
     ]
    },
    {
     "name": "stderr",
     "output_type": "stream",
     "text": [
      " 30%|███       | 3/10 [03:19<07:43, 66.25s/it]"
     ]
    },
    {
     "name": "stdout",
     "output_type": "stream",
     "text": [
      "Test loss: 1.06359 | Test accuracy: 62.17%\n",
      "\n",
      "Epoch: 4\n",
      "-------\n",
      "Train loss: 1.11534 | Train acc: 59.98%\n"
     ]
    },
    {
     "name": "stderr",
     "output_type": "stream",
     "text": [
      " 40%|████      | 4/10 [04:25<06:35, 65.95s/it]"
     ]
    },
    {
     "name": "stdout",
     "output_type": "stream",
     "text": [
      "Test loss: 0.99029 | Test accuracy: 65.30%\n",
      "\n",
      "Epoch: 5\n",
      "-------\n",
      "Train loss: 1.01422 | Train acc: 63.97%\n"
     ]
    },
    {
     "name": "stderr",
     "output_type": "stream",
     "text": [
      " 50%|█████     | 5/10 [05:30<05:29, 65.87s/it]"
     ]
    },
    {
     "name": "stdout",
     "output_type": "stream",
     "text": [
      "Test loss: 1.00797 | Test accuracy: 65.06%\n",
      "\n",
      "Epoch: 6\n",
      "-------\n",
      "Train loss: 0.94654 | Train acc: 66.83%\n"
     ]
    },
    {
     "name": "stderr",
     "output_type": "stream",
     "text": [
      " 60%|██████    | 6/10 [06:37<04:24, 66.13s/it]"
     ]
    },
    {
     "name": "stdout",
     "output_type": "stream",
     "text": [
      "Test loss: 0.94356 | Test accuracy: 67.11%\n",
      "\n",
      "Epoch: 7\n",
      "-------\n",
      "Train loss: 0.88876 | Train acc: 68.81%\n"
     ]
    },
    {
     "name": "stderr",
     "output_type": "stream",
     "text": [
      " 70%|███████   | 7/10 [07:44<03:19, 66.36s/it]"
     ]
    },
    {
     "name": "stdout",
     "output_type": "stream",
     "text": [
      "Test loss: 0.88605 | Test accuracy: 69.30%\n",
      "\n",
      "Epoch: 8\n",
      "-------\n",
      "Train loss: 0.84098 | Train acc: 70.34%\n"
     ]
    },
    {
     "name": "stderr",
     "output_type": "stream",
     "text": [
      " 80%|████████  | 8/10 [08:50<02:12, 66.26s/it]"
     ]
    },
    {
     "name": "stdout",
     "output_type": "stream",
     "text": [
      "Test loss: 0.93294 | Test accuracy: 67.88%\n",
      "\n",
      "Epoch: 9\n",
      "-------\n",
      "Train loss: 0.81107 | Train acc: 71.45%\n"
     ]
    },
    {
     "name": "stderr",
     "output_type": "stream",
     "text": [
      " 90%|█████████ | 9/10 [09:56<01:06, 66.32s/it]"
     ]
    },
    {
     "name": "stdout",
     "output_type": "stream",
     "text": [
      "Test loss: 0.77652 | Test accuracy: 72.97%\n",
      "\n",
      "Epoch: 10\n",
      "-------\n",
      "Train loss: 0.77547 | Train acc: 72.87%\n"
     ]
    },
    {
     "name": "stderr",
     "output_type": "stream",
     "text": [
      "100%|██████████| 10/10 [11:03<00:00, 66.38s/it]"
     ]
    },
    {
     "name": "stdout",
     "output_type": "stream",
     "text": [
      "Test loss: 0.77765 | Test accuracy: 73.46%\n",
      "\n"
     ]
    },
    {
     "name": "stderr",
     "output_type": "stream",
     "text": [
      "\n"
     ]
    }
   ],
   "source": [
    "# Import tqdm for progress bar\n",
    "from tqdm.auto import tqdm\n",
    "\n",
    "torch.manual_seed(42) # for reproducibility\n",
    "\n",
    "num_epochs = 10\n",
    "for epoch in tqdm(range(num_epochs)):\n",
    "    print(f\"Epoch: {epoch+1}\\n-------\")\n",
    "    train_loop(model=model_1,\n",
    "               data_loader=train_dataloader,\n",
    "               loss_fn=loss_fn,\n",
    "               optimizer=optimizer,\n",
    "               metric=metric)\n",
    "               \n",
    "    test_loop(model=model_1,\n",
    "              data_loader=test_dataloader,\n",
    "              loss_fn=loss_fn,\n",
    "              metric=metric)"
   ]
  },
  {
   "cell_type": "markdown",
   "id": "fdcfc654",
   "metadata": {},
   "source": [
    "### Train Model 2"
   ]
  },
  {
   "cell_type": "code",
   "execution_count": 37,
   "id": "20a944e5",
   "metadata": {},
   "outputs": [],
   "source": [
    "# Setup loss function and optimizer\n",
    "loss_fn = nn.CrossEntropyLoss()\n",
    "optimizer = torch.optim.SGD(params=resnet.fc.parameters(), lr=0.1)"
   ]
  },
  {
   "cell_type": "code",
   "execution_count": 38,
   "id": "4d47a2a4",
   "metadata": {},
   "outputs": [
    {
     "name": "stderr",
     "output_type": "stream",
     "text": [
      "  0%|          | 0/10 [00:00<?, ?it/s]"
     ]
    },
    {
     "name": "stdout",
     "output_type": "stream",
     "text": [
      "Epoch: 1\n",
      "-------\n"
     ]
    },
    {
     "name": "stderr",
     "output_type": "stream",
     "text": [
      " 10%|█         | 1/10 [00:11<01:45, 11.70s/it]"
     ]
    },
    {
     "name": "stdout",
     "output_type": "stream",
     "text": [
      "Test loss: 2.35027 | Test accuracy: 10.19%\n",
      "\n",
      "Epoch: 2\n",
      "-------\n"
     ]
    },
    {
     "name": "stderr",
     "output_type": "stream",
     "text": [
      " 20%|██        | 2/10 [00:22<01:31, 11.41s/it]"
     ]
    },
    {
     "name": "stdout",
     "output_type": "stream",
     "text": [
      "Test loss: 2.35027 | Test accuracy: 10.19%\n",
      "\n",
      "Epoch: 3\n",
      "-------\n"
     ]
    },
    {
     "name": "stderr",
     "output_type": "stream",
     "text": [
      " 30%|███       | 3/10 [00:34<01:19, 11.32s/it]"
     ]
    },
    {
     "name": "stdout",
     "output_type": "stream",
     "text": [
      "Test loss: 2.35027 | Test accuracy: 10.19%\n",
      "\n",
      "Epoch: 4\n",
      "-------\n"
     ]
    },
    {
     "name": "stderr",
     "output_type": "stream",
     "text": [
      " 40%|████      | 4/10 [00:45<01:07, 11.33s/it]"
     ]
    },
    {
     "name": "stdout",
     "output_type": "stream",
     "text": [
      "Test loss: 2.35027 | Test accuracy: 10.19%\n",
      "\n",
      "Epoch: 5\n",
      "-------\n"
     ]
    },
    {
     "name": "stderr",
     "output_type": "stream",
     "text": [
      " 50%|█████     | 5/10 [00:56<00:56, 11.29s/it]"
     ]
    },
    {
     "name": "stdout",
     "output_type": "stream",
     "text": [
      "Test loss: 2.35027 | Test accuracy: 10.19%\n",
      "\n",
      "Epoch: 6\n",
      "-------\n"
     ]
    },
    {
     "name": "stderr",
     "output_type": "stream",
     "text": [
      " 60%|██████    | 6/10 [01:08<00:45, 11.34s/it]"
     ]
    },
    {
     "name": "stdout",
     "output_type": "stream",
     "text": [
      "Test loss: 2.35027 | Test accuracy: 10.19%\n",
      "\n",
      "Epoch: 7\n",
      "-------\n"
     ]
    },
    {
     "name": "stderr",
     "output_type": "stream",
     "text": [
      " 70%|███████   | 7/10 [01:19<00:33, 11.27s/it]"
     ]
    },
    {
     "name": "stdout",
     "output_type": "stream",
     "text": [
      "Test loss: 2.35027 | Test accuracy: 10.19%\n",
      "\n",
      "Epoch: 8\n",
      "-------\n"
     ]
    },
    {
     "name": "stderr",
     "output_type": "stream",
     "text": [
      " 80%|████████  | 8/10 [01:30<00:22, 11.15s/it]"
     ]
    },
    {
     "name": "stdout",
     "output_type": "stream",
     "text": [
      "Test loss: 2.35027 | Test accuracy: 10.19%\n",
      "\n",
      "Epoch: 9\n",
      "-------\n"
     ]
    },
    {
     "name": "stderr",
     "output_type": "stream",
     "text": [
      " 90%|█████████ | 9/10 [01:40<00:11, 11.04s/it]"
     ]
    },
    {
     "name": "stdout",
     "output_type": "stream",
     "text": [
      "Test loss: 2.35027 | Test accuracy: 10.19%\n",
      "\n",
      "Epoch: 10\n",
      "-------\n"
     ]
    },
    {
     "name": "stderr",
     "output_type": "stream",
     "text": [
      "100%|██████████| 10/10 [01:51<00:00, 11.19s/it]"
     ]
    },
    {
     "name": "stdout",
     "output_type": "stream",
     "text": [
      "Test loss: 2.35027 | Test accuracy: 10.19%\n",
      "\n"
     ]
    },
    {
     "name": "stderr",
     "output_type": "stream",
     "text": [
      "\n"
     ]
    }
   ],
   "source": [
    "# Import tqdm for progress bar\n",
    "from tqdm.auto import tqdm\n",
    "\n",
    "torch.manual_seed(42) # for reproducibility\n",
    "\n",
    "num_epochs = 10\n",
    "for epoch in tqdm(range(num_epochs)):\n",
    "    print(f\"Epoch: {epoch+1}\\n-------\")\n",
    "    test_loop(model=resnet,\n",
    "              data_loader=test_dataloader,\n",
    "              loss_fn=loss_fn,\n",
    "              metric=metric)"
   ]
  }
 ],
 "metadata": {
  "kernelspec": {
   "display_name": "Python 3",
   "language": "python",
   "name": "python3"
  },
  "language_info": {
   "codemirror_mode": {
    "name": "ipython",
    "version": 3
   },
   "file_extension": ".py",
   "mimetype": "text/x-python",
   "name": "python",
   "nbconvert_exporter": "python",
   "pygments_lexer": "ipython3",
   "version": "3.9.7"
  }
 },
 "nbformat": 4,
 "nbformat_minor": 5
}
