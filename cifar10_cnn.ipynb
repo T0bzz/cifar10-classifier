{
 "cells": [
  {
   "cell_type": "markdown",
   "id": "744cd592",
   "metadata": {},
   "source": [
    "## Setup & Data"
   ]
  },
  {
   "cell_type": "code",
   "execution_count": null,
   "id": "06e3dd8c",
   "metadata": {},
   "outputs": [],
   "source": [
    "# Import pytorch\n",
    "import torch\n",
    "from torch import nn\n",
    "\n",
    "# Import torch vision\n",
    "import torchvision\n",
    "from torchvision import transforms, datasets\n",
    "\n",
    "# Import matplotlib for visualisation\n",
    "import matplotlib as plt"
   ]
  },
  {
   "cell_type": "code",
   "execution_count": 18,
   "id": "e4fea721",
   "metadata": {},
   "outputs": [],
   "source": [
    "# Define augmentation and normalisation for training\n",
    "train_transform = transforms.Compose([\n",
    "    transforms.RandomHorizontalFlip(),\n",
    "    transforms.RandomCrop(32, padding=4),\n",
    "    transforms.RandomRotation(10),\n",
    "    transforms.ToTensor(),\n",
    "    transforms.Normalize((0.5,0.5,0.5), (0.5,0.5,0.5))\n",
    "])\n",
    "\n",
    "# Normalise and transform test data\n",
    "test_transform = transforms.Compose([\n",
    "    transforms.ToTensor(),\n",
    "    transforms.Normalize((0.5,0.5,0.5), (0.5,0.5,0.5))\n",
    "])\n",
    "\n",
    "# Setup training data\n",
    "train_data = datasets.CIFAR10(\n",
    "    root=\"sample_data\",\n",
    "    train=True,\n",
    "    download=True,\n",
    "    transform=train_transform,\n",
    "    target_transform=None\n",
    ")\n",
    "\n",
    "# Setup testing data\n",
    "test_data = datasets.CIFAR10(\n",
    "    root=\"sample_data\",\n",
    "    train=False,\n",
    "    download=True,\n",
    "    transform=test_transform\n",
    ")"
   ]
  },
  {
   "cell_type": "code",
   "execution_count": 20,
   "id": "6553c8a6",
   "metadata": {},
   "outputs": [
    {
     "data": {
      "text/plain": [
       "(tensor([[[-1.0000, -1.0000, -1.0000,  ..., -1.0000, -1.0000, -1.0000],\n",
       "          [-1.0000, -1.0000, -1.0000,  ..., -1.0000, -1.0000, -1.0000],\n",
       "          [-1.0000, -1.0000, -1.0000,  ..., -1.0000, -1.0000, -1.0000],\n",
       "          ...,\n",
       "          [-1.0000, -1.0000,  0.2549,  ..., -0.4431, -1.0000, -1.0000],\n",
       "          [-1.0000, -1.0000,  0.1765,  ..., -1.0000, -1.0000, -1.0000],\n",
       "          [-1.0000, -1.0000,  0.0588,  ..., -1.0000, -1.0000, -1.0000]],\n",
       " \n",
       "         [[-1.0000, -1.0000, -1.0000,  ..., -1.0000, -1.0000, -1.0000],\n",
       "          [-1.0000, -1.0000, -1.0000,  ..., -1.0000, -1.0000, -1.0000],\n",
       "          [-1.0000, -1.0000, -1.0000,  ..., -1.0000, -1.0000, -1.0000],\n",
       "          ...,\n",
       "          [-1.0000, -1.0000, -0.1451,  ..., -0.6235, -1.0000, -1.0000],\n",
       "          [-1.0000, -1.0000, -0.1843,  ..., -1.0000, -1.0000, -1.0000],\n",
       "          [-1.0000, -1.0000, -0.2941,  ..., -1.0000, -1.0000, -1.0000]],\n",
       " \n",
       "         [[-1.0000, -1.0000, -1.0000,  ..., -1.0000, -1.0000, -1.0000],\n",
       "          [-1.0000, -1.0000, -1.0000,  ..., -1.0000, -1.0000, -1.0000],\n",
       "          [-1.0000, -1.0000, -1.0000,  ..., -1.0000, -1.0000, -1.0000],\n",
       "          ...,\n",
       "          [-1.0000, -1.0000, -0.4353,  ..., -0.7961, -1.0000, -1.0000],\n",
       "          [-1.0000, -1.0000, -0.5059,  ..., -1.0000, -1.0000, -1.0000],\n",
       "          [-1.0000, -1.0000, -0.6471,  ..., -1.0000, -1.0000, -1.0000]]]),\n",
       " 6)"
      ]
     },
     "execution_count": 20,
     "metadata": {},
     "output_type": "execute_result"
    }
   ],
   "source": [
    "# Dislpay the first image and its corresponding lable from the training dataset\n",
    "image, label = train_data[0]\n",
    "image, label"
   ]
  }
 ],
 "metadata": {
  "kernelspec": {
   "display_name": "Python 3",
   "language": "python",
   "name": "python3"
  },
  "language_info": {
   "codemirror_mode": {
    "name": "ipython",
    "version": 3
   },
   "file_extension": ".py",
   "mimetype": "text/x-python",
   "name": "python",
   "nbconvert_exporter": "python",
   "pygments_lexer": "ipython3",
   "version": "3.9.7"
  }
 },
 "nbformat": 4,
 "nbformat_minor": 5
}
